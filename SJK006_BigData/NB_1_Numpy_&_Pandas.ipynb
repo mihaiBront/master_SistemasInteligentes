{
  "cells": [
    {
      "cell_type": "markdown",
      "metadata": {
        "id": "k-RbLgt3YWmy"
      },
      "source": [
        "IMPORTANT: Make a copy of this noteboook into your Drive."
      ]
    },
    {
      "cell_type": "code",
      "execution_count": 1,
      "metadata": {
        "colab": {
          "base_uri": "https://localhost:8080/"
        },
        "id": "4sLWzJm7cTLk",
        "outputId": "f2af9015-8439-4412-f813-11debaba0727"
      },
      "outputs": [
        {
          "name": "stdout",
          "output_type": "stream",
          "text": [
            "Requirement already satisfied: requests in c:\\_git\\github_repo\\master_sistemasinteligentes\\.venv\\lib\\site-packages (2.32.3)\n",
            "Requirement already satisfied: charset-normalizer<4,>=2 in c:\\_git\\github_repo\\master_sistemasinteligentes\\.venv\\lib\\site-packages (from requests) (3.3.2)\n",
            "Requirement already satisfied: idna<4,>=2.5 in c:\\_git\\github_repo\\master_sistemasinteligentes\\.venv\\lib\\site-packages (from requests) (3.8)\n",
            "Requirement already satisfied: urllib3<3,>=1.21.1 in c:\\_git\\github_repo\\master_sistemasinteligentes\\.venv\\lib\\site-packages (from requests) (2.2.2)\n",
            "Requirement already satisfied: certifi>=2017.4.17 in c:\\_git\\github_repo\\master_sistemasinteligentes\\.venv\\lib\\site-packages (from requests) (2024.8.30)\n"
          ]
        }
      ],
      "source": [
        "!pip install requests"
      ]
    },
    {
      "cell_type": "markdown",
      "metadata": {
        "id": "u8MOXf7SFXXQ"
      },
      "source": [
        "# NUMPY\n",
        "\n",
        "\n",
        "https://numpy.org/doc/stable/\n",
        "\n",
        "https://numpy.org/doc/stable/reference/index.html#reference"
      ]
    },
    {
      "cell_type": "markdown",
      "metadata": {
        "id": "Xyd8WRowbZzh"
      },
      "source": [
        "Is Numpy really fast?"
      ]
    },
    {
      "cell_type": "code",
      "execution_count": 2,
      "metadata": {
        "colab": {
          "base_uri": "https://localhost:8080/"
        },
        "id": "xWMDBT9_FSpp",
        "outputId": "c8970ee3-21ac-4465-b799-8ca298c556b6"
      },
      "outputs": [
        {
          "name": "stdout",
          "output_type": "stream",
          "text": [
            "47.5 ms ± 981 μs per loop (mean ± std. dev. of 7 runs, 10 loops each)\n",
            "2.08 ms ± 93.3 μs per loop (mean ± std. dev. of 7 runs, 100 loops each)\n"
          ]
        }
      ],
      "source": [
        "import numpy as np\n",
        "import random\n",
        "\n",
        "# Set the size of the vectors\n",
        "n = 1_000_000\n",
        "\n",
        "# Create two random vectors\n",
        "a = [random.random() for _ in range(n)]\n",
        "b = [random.random() for _ in range(n)]\n",
        "\n",
        "# Convert to NumPy arrays\n",
        "np_a = np.array(a)\n",
        "np_b = np.array(b)\n",
        "\n",
        "# Plain Python multiplication\n",
        "def python_multiply(x, y):\n",
        "    return [a * b for a, b in zip(x, y)]\n",
        "\n",
        "# NumPy multiplication\n",
        "def numpy_multiply(x, y):\n",
        "    return np.multiply(x, y)\n",
        "\n",
        "# Time the Plain Python method\n",
        "%timeit python_multiply(a, b)\n",
        "\n",
        "# Time the NumPy method\n",
        "%timeit numpy_multiply(np_a, np_b)"
      ]
    },
    {
      "cell_type": "markdown",
      "metadata": {
        "id": "BSf7Lv1PFH8s"
      },
      "source": [
        "# PANDAS first steps\n",
        "\n",
        "PANDAS is the most popular library for data science (https://pandas.pydata.org/). A complete guide of this library can be found at https://pandas.pydata.org/docs/user_guide/index.html\n",
        "\n",
        "Pandas relies on the **numpy** library for some operations, so it is convenient to import both libraries at ones.\n",
        "\n",
        "Pandas has been integrated with matplotlib so that visualising data frames becomes an easy task with this library.\n",
        "\n",
        "Notice that other many libraries for machine learning like **sckit-learn** as well for big data like **pySpark** have been adapted to interact/migrate into Panda's data frames. To sum up, Pandas is a standard de facto for data processing.\n"
      ]
    },
    {
      "cell_type": "code",
      "execution_count": 3,
      "metadata": {
        "id": "peKS5oV3FS3I"
      },
      "outputs": [],
      "source": [
        "# Pandas and numpy are already installed in Colab and included in miniconda installations\n",
        "\n",
        "import pandas as pd\n",
        "import numpy as np"
      ]
    },
    {
      "cell_type": "markdown",
      "metadata": {
        "id": "ILSlS6eHIFqJ"
      },
      "source": [
        "# SERIES\n",
        "\n",
        "A series is the most basic elemento of Pandas and consists of an indexed list of elements.\n",
        "\n",
        "**Note:** When using functions of imported packages, Colab will help you in knowing which arguments to use and a brief description."
      ]
    },
    {
      "cell_type": "code",
      "execution_count": null,
      "metadata": {
        "colab": {
          "base_uri": "https://localhost:8080/",
          "height": 303
        },
        "id": "5TwrNSG8GRi-",
        "outputId": "9a1b1e15-1df8-4d10-97fb-e61effaa8786"
      },
      "outputs": [
        {
          "data": {
            "text/html": [
              "<div>\n",
              "<style scoped>\n",
              "    .dataframe tbody tr th:only-of-type {\n",
              "        vertical-align: middle;\n",
              "    }\n",
              "\n",
              "    .dataframe tbody tr th {\n",
              "        vertical-align: top;\n",
              "    }\n",
              "\n",
              "    .dataframe thead th {\n",
              "        text-align: right;\n",
              "    }\n",
              "</style>\n",
              "<table border=\"1\" class=\"dataframe\">\n",
              "  <thead>\n",
              "    <tr style=\"text-align: right;\">\n",
              "      <th></th>\n",
              "      <th>0</th>\n",
              "    </tr>\n",
              "  </thead>\n",
              "  <tbody>\n",
              "    <tr>\n",
              "      <th>0</th>\n",
              "      <td>1.5</td>\n",
              "    </tr>\n",
              "    <tr>\n",
              "      <th>1</th>\n",
              "      <td>2.0</td>\n",
              "    </tr>\n",
              "    <tr>\n",
              "      <th>2</th>\n",
              "      <td>2.0</td>\n",
              "    </tr>\n",
              "    <tr>\n",
              "      <th>3</th>\n",
              "      <td>3.0</td>\n",
              "    </tr>\n",
              "    <tr>\n",
              "      <th>4</th>\n",
              "      <td>4.0</td>\n",
              "    </tr>\n",
              "    <tr>\n",
              "      <th>5</th>\n",
              "      <td>5.0</td>\n",
              "    </tr>\n",
              "    <tr>\n",
              "      <th>6</th>\n",
              "      <td>6.0</td>\n",
              "    </tr>\n",
              "  </tbody>\n",
              "</table>\n",
              "</div><br><label><b>dtype:</b> float64</label>"
            ],
            "text/plain": [
              "0    1.5\n",
              "1    2.0\n",
              "2    2.0\n",
              "3    3.0\n",
              "4    4.0\n",
              "5    5.0\n",
              "6    6.0\n",
              "dtype: float64"
            ]
          },
          "execution_count": 21,
          "metadata": {},
          "output_type": "execute_result"
        }
      ],
      "source": [
        "# A series\n",
        "\n",
        "s = pd.Series(data=[1.5,2,2,3,4,5,6])\n",
        "\n",
        "s"
      ]
    },
    {
      "cell_type": "code",
      "execution_count": null,
      "metadata": {
        "colab": {
          "base_uri": "https://localhost:8080/",
          "height": 303
        },
        "id": "qcoAdFtFI4c_",
        "outputId": "8d9c369e-78ed-4d86-9b92-c6d668c07163"
      },
      "outputs": [
        {
          "data": {
            "text/html": [
              "<div>\n",
              "<style scoped>\n",
              "    .dataframe tbody tr th:only-of-type {\n",
              "        vertical-align: middle;\n",
              "    }\n",
              "\n",
              "    .dataframe tbody tr th {\n",
              "        vertical-align: top;\n",
              "    }\n",
              "\n",
              "    .dataframe thead th {\n",
              "        text-align: right;\n",
              "    }\n",
              "</style>\n",
              "<table border=\"1\" class=\"dataframe\">\n",
              "  <thead>\n",
              "    <tr style=\"text-align: right;\">\n",
              "      <th></th>\n",
              "      <th>0</th>\n",
              "    </tr>\n",
              "  </thead>\n",
              "  <tbody>\n",
              "    <tr>\n",
              "      <th>0</th>\n",
              "      <td>4.5</td>\n",
              "    </tr>\n",
              "    <tr>\n",
              "      <th>1</th>\n",
              "      <td>5.0</td>\n",
              "    </tr>\n",
              "    <tr>\n",
              "      <th>2</th>\n",
              "      <td>6.0</td>\n",
              "    </tr>\n",
              "    <tr>\n",
              "      <th>3</th>\n",
              "      <td>7.0</td>\n",
              "    </tr>\n",
              "    <tr>\n",
              "      <th>4</th>\n",
              "      <td>8.0</td>\n",
              "    </tr>\n",
              "    <tr>\n",
              "      <th>5</th>\n",
              "      <td>7.0</td>\n",
              "    </tr>\n",
              "    <tr>\n",
              "      <th>6</th>\n",
              "      <td>9.0</td>\n",
              "    </tr>\n",
              "  </tbody>\n",
              "</table>\n",
              "</div><br><label><b>dtype:</b> float64</label>"
            ],
            "text/plain": [
              "0    4.5\n",
              "1    5.0\n",
              "2    6.0\n",
              "3    7.0\n",
              "4    8.0\n",
              "5    7.0\n",
              "6    9.0\n",
              "dtype: float64"
            ]
          },
          "execution_count": 11,
          "metadata": {},
          "output_type": "execute_result"
        }
      ],
      "source": [
        "s.astype('float') + 3"
      ]
    },
    {
      "cell_type": "code",
      "execution_count": null,
      "metadata": {
        "id": "oqCnCcMK7UNV"
      },
      "outputs": [],
      "source": [
        "## how can we get the index and type of the series?\n"
      ]
    },
    {
      "cell_type": "code",
      "execution_count": null,
      "metadata": {
        "colab": {
          "base_uri": "https://localhost:8080/",
          "height": 303
        },
        "id": "H7Lvit8ThrEz",
        "outputId": "d562d83e-a06b-4091-adf8-aa406514d321"
      },
      "outputs": [
        {
          "data": {
            "text/html": [
              "<div>\n",
              "<style scoped>\n",
              "    .dataframe tbody tr th:only-of-type {\n",
              "        vertical-align: middle;\n",
              "    }\n",
              "\n",
              "    .dataframe tbody tr th {\n",
              "        vertical-align: top;\n",
              "    }\n",
              "\n",
              "    .dataframe thead th {\n",
              "        text-align: right;\n",
              "    }\n",
              "</style>\n",
              "<table border=\"1\" class=\"dataframe\">\n",
              "  <thead>\n",
              "    <tr style=\"text-align: right;\">\n",
              "      <th></th>\n",
              "      <th>0</th>\n",
              "    </tr>\n",
              "  </thead>\n",
              "  <tbody>\n",
              "    <tr>\n",
              "      <th>0</th>\n",
              "      <td>3.0</td>\n",
              "    </tr>\n",
              "    <tr>\n",
              "      <th>1</th>\n",
              "      <td>4.0</td>\n",
              "    </tr>\n",
              "    <tr>\n",
              "      <th>2</th>\n",
              "      <td>6.0</td>\n",
              "    </tr>\n",
              "    <tr>\n",
              "      <th>3</th>\n",
              "      <td>8.0</td>\n",
              "    </tr>\n",
              "    <tr>\n",
              "      <th>4</th>\n",
              "      <td>10.0</td>\n",
              "    </tr>\n",
              "    <tr>\n",
              "      <th>5</th>\n",
              "      <td>12.0</td>\n",
              "    </tr>\n",
              "    <tr>\n",
              "      <th>6</th>\n",
              "      <td>NaN</td>\n",
              "    </tr>\n",
              "  </tbody>\n",
              "</table>\n",
              "</div><br><label><b>dtype:</b> float64</label>"
            ],
            "text/plain": [
              "0     3.0\n",
              "1     4.0\n",
              "2     6.0\n",
              "3     8.0\n",
              "4    10.0\n",
              "5    12.0\n",
              "6     NaN\n",
              "dtype: float64"
            ]
          },
          "execution_count": 14,
          "metadata": {},
          "output_type": "execute_result"
        }
      ],
      "source": [
        "# Another series\n",
        "\n",
        "s2 = pd.Series(data=[1.5,2,3,4,5,6,7])\n",
        "\n",
        "s3 = s + s2\n",
        "\n",
        "s3"
      ]
    },
    {
      "cell_type": "code",
      "execution_count": null,
      "metadata": {
        "id": "7r3CZTeB7ckL"
      },
      "outputs": [],
      "source": [
        "## Notice that like Numpy operators are overridden to be applied over series"
      ]
    },
    {
      "cell_type": "markdown",
      "metadata": {
        "id": "XYike700O9nX"
      },
      "source": [
        "Visualising series (and data frames) is direct with the method .plot, which is a wrapper on the matplotlib.\n",
        "\n",
        "(https://pandas.pydata.org/docs/user_guide/visualization.html)"
      ]
    },
    {
      "cell_type": "code",
      "execution_count": null,
      "metadata": {
        "colab": {
          "base_uri": "https://localhost:8080/",
          "height": 447
        },
        "id": "OxukBOdUG2Ye",
        "outputId": "865f8c7d-c588-477b-9efd-2cdb8dcfdf8a"
      },
      "outputs": [
        {
          "data": {
            "text/plain": [
              "<Axes: >"
            ]
          },
          "execution_count": 19,
          "metadata": {},
          "output_type": "execute_result"
        },
        {
          "data": {
            "image/png": "[encoded data removed]",
            "text/plain": [
              "<Figure size 640x480 with 1 Axes>"
            ]
          },
          "metadata": {},
          "output_type": "display_data"
        }
      ],
      "source": [
        "# Visualización con el método plot\n",
        "\n",
        "s.plot.line()"
      ]
    },
    {
      "cell_type": "code",
      "execution_count": null,
      "metadata": {
        "colab": {
          "base_uri": "https://localhost:8080/",
          "height": 428
        },
        "id": "8wK7C9Q6VlnY",
        "outputId": "5fc32a5d-459f-452e-cb09-c6fcba17a565"
      },
      "outputs": [
        {
          "data": {
            "text/plain": [
              "<Axes: >"
            ]
          },
          "execution_count": 22,
          "metadata": {},
          "output_type": "execute_result"
        },
        {
          "data": {
            "image/png": "[encoded data removed]",
            "text/plain": [
              "<Figure size 640x480 with 1 Axes>"
            ]
          },
          "metadata": {},
          "output_type": "display_data"
        }
      ],
      "source": [
        "s.plot.box()"
      ]
    },
    {
      "cell_type": "markdown",
      "metadata": {
        "id": "Io04gCco8NVu"
      },
      "source": [
        "We can define the series indexes by explicitely passing the elements that will serve as index.\n",
        "\n",
        "By default indexes are natural numbers (0 ... N), but we can change the index to be any arbitrary list of numbers or strings."
      ]
    },
    {
      "cell_type": "code",
      "execution_count": null,
      "metadata": {
        "id": "ux5cMHgkG4Bu"
      },
      "outputs": [],
      "source": [
        "s = pd.Series(data=[6,5,4,3,2,1], index=['a','b','c','d','e','f'])"
      ]
    },
    {
      "cell_type": "code",
      "execution_count": null,
      "metadata": {
        "colab": {
          "base_uri": "https://localhost:8080/",
          "height": 447
        },
        "id": "QByqdE7lI68Q",
        "outputId": "63d315b1-4f4d-4b23-f18a-c0a9dd67fe3d"
      },
      "outputs": [
        {
          "data": {
            "text/plain": [
              "<Axes: >"
            ]
          },
          "execution_count": 24,
          "metadata": {},
          "output_type": "execute_result"
        },
        {
          "data": {
            "image/png": "[encoded data removed]",
            "text/plain": [
              "<Figure size 640x480 with 1 Axes>"
            ]
          },
          "metadata": {},
          "output_type": "display_data"
        }
      ],
      "source": [
        "s.plot.line()"
      ]
    },
    {
      "cell_type": "code",
      "execution_count": null,
      "metadata": {
        "colab": {
          "base_uri": "https://localhost:8080/",
          "height": 442
        },
        "id": "1SBM5Ed2KxFO",
        "outputId": "21d06e60-adeb-4a81-cf8e-cbbbacd2b4dd"
      },
      "outputs": [
        {
          "data": {
            "text/plain": [
              "<Axes: >"
            ]
          },
          "execution_count": 26,
          "metadata": {},
          "output_type": "execute_result"
        },
        {
          "data": {
            "image/png": "[encoded data removed]",
            "text/plain": [
              "<Figure size 640x480 with 1 Axes>"
            ]
          },
          "metadata": {},
          "output_type": "display_data"
        }
      ],
      "source": [
        "s.plot.bar()"
      ]
    },
    {
      "cell_type": "code",
      "execution_count": null,
      "metadata": {
        "id": "m8KelRGVI9lf"
      },
      "outputs": [],
      "source": [
        "# Another way to create a series is by means a dictionary\n",
        "\n",
        "s = pd.Series(data= {'b': 1, 'a': 0, 'c': 2})\n",
        "\n",
        "s"
      ]
    },
    {
      "cell_type": "code",
      "execution_count": null,
      "metadata": {
        "id": "h0YIjJEQJcSZ"
      },
      "outputs": [],
      "source": [
        "# We can easily to transform series to numpy arrays\n",
        "\n",
        "v = s.to_numpy()\n",
        "\n",
        "np.log(v)"
      ]
    },
    {
      "cell_type": "markdown",
      "metadata": {
        "id": "YAZd9KAQBEae"
      },
      "source": [
        "**Question:** Find two ways to transform series into Python lists."
      ]
    },
    {
      "cell_type": "code",
      "execution_count": null,
      "metadata": {
        "id": "QpEm-P8jMqHc"
      },
      "outputs": [],
      "source": []
    },
    {
      "cell_type": "markdown",
      "metadata": {
        "id": "4wNBCL6dKPIB"
      },
      "source": [
        "#DATA FRAMES\n",
        "\n",
        "DataFrames are collections of series sharing the same index (https://pandas.pydata.org/docs/user_guide/dsintro.html).\n",
        "\n",
        "Series (columns) are organised into two axes:\n",
        "\n",
        "![image.png](data:image/png;base64,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)\n",
        "\n",
        "\n"
      ]
    },
    {
      "cell_type": "markdown",
      "metadata": {
        "id": "kBGCR7uC9eV0"
      },
      "source": [
        "\n",
        "When importing with Pandas, data will be automatically converted into a dataframe. The usual way is as follows:"
      ]
    },
    {
      "cell_type": "code",
      "execution_count": null,
      "metadata": {
        "id": "CKk0RVPOJsl4"
      },
      "outputs": [],
      "source": [
        "# The first argument is required and must be a local file or a remote file (URL)\n",
        "\n",
        "df = pd.read_csv('https://krono.act.uji.es/IDIA/airline-passengers.csv')"
      ]
    },
    {
      "cell_type": "code",
      "execution_count": null,
      "metadata": {
        "id": "vYPKI7FzK_6h"
      },
      "outputs": [],
      "source": [
        "# Data frames can be easily explored with the following methods\n",
        "# Statistics\n",
        "\n",
        "df.describe()"
      ]
    },
    {
      "cell_type": "code",
      "execution_count": null,
      "metadata": {
        "id": "pDYO0ERsCiY6"
      },
      "outputs": [],
      "source": [
        "df.info()"
      ]
    },
    {
      "cell_type": "code",
      "execution_count": null,
      "metadata": {
        "id": "d_qhH3vm66dd"
      },
      "outputs": [],
      "source": [
        "df.dtypes"
      ]
    },
    {
      "cell_type": "code",
      "execution_count": null,
      "metadata": {
        "id": "t_WOL_meLUnd"
      },
      "outputs": [],
      "source": [
        "df.head(2) #first two rows"
      ]
    },
    {
      "cell_type": "code",
      "execution_count": null,
      "metadata": {
        "id": "vRZTo_36LYsl"
      },
      "outputs": [],
      "source": [
        "df.tail(1) # last row"
      ]
    },
    {
      "cell_type": "code",
      "execution_count": null,
      "metadata": {
        "id": "vpMCcRnK6KfY"
      },
      "outputs": [],
      "source": [
        "# If we want that a column becomes the index, we should include index_col='Month' in read_csv\n",
        "\n",
        "# or once loaded, with set_index('Month')\n",
        "\n",
        "# we can also create the index with several columns (multi-index)\n",
        "\n",
        "df = df.set_index('Month')\n",
        "#df.set_index('Month', inplace=True)"
      ]
    },
    {
      "cell_type": "code",
      "execution_count": null,
      "metadata": {
        "id": "tMiUrl2TLcHs"
      },
      "outputs": [],
      "source": [
        "df.plot.line()"
      ]
    },
    {
      "cell_type": "code",
      "execution_count": null,
      "metadata": {
        "id": "Hp-sFpVYSznd"
      },
      "outputs": [],
      "source": [
        "df.plot.box()"
      ]
    },
    {
      "cell_type": "markdown",
      "metadata": {
        "id": "UrN0QKNh4gQg"
      },
      "source": [
        "**Exercise 1**: Let's create a column with a true date (\"Date\") from the existing \"Month\" column. Let's complete the date by appending the day to string of Month and tgen we will change the column's datatype with [pd.to_datetime](https://pandas.pydata.org/docs/reference/api/pandas.to_datetime.html) Finally, we can get rid of the column \"Month\" with [df.drop](https://pandas.pydata.org/docs/reference/api/pandas.DataFrame.drop.html). You can then change the index to the new column with:\n",
        "\n",
        "`df.index = pd.to_datetime(....)`\n",
        "\n"
      ]
    },
    {
      "cell_type": "code",
      "execution_count": null,
      "metadata": {
        "id": "A6ITHcyy5J39"
      },
      "outputs": [],
      "source": [
        "df = df.reset_index()\n",
        "\n",
        "## Define a new column adding to Month añadiendo the string '-1' and convert the result to datetime\n",
        "\n",
        "df['Date'] = #complete date from Month\n",
        "\n",
        "#drop Month\n",
        "\n",
        "#create the new index\n",
        "\n",
        "#plot the new series\n",
        "\n"
      ]
    },
    {
      "cell_type": "markdown",
      "metadata": {
        "id": "P71YNS-Vy_V4"
      },
      "source": [
        "**Exercise 2**: By querying the documentation of Pandas of the `read_csv` function, find a way to directly import the data with the (incomplete) date of  `Month` as a datetime."
      ]
    },
    {
      "cell_type": "code",
      "execution_count": null,
      "metadata": {
        "id": "S3Sk3Xjgb9WM"
      },
      "outputs": [],
      "source": []
    },
    {
      "cell_type": "markdown",
      "metadata": {
        "id": "Vsfv5Grnve-D"
      },
      "source": [
        "## Creation of Dataframe (without importing data)"
      ]
    },
    {
      "cell_type": "code",
      "execution_count": null,
      "metadata": {
        "id": "r-rJaGEhLexz"
      },
      "outputs": [],
      "source": [
        "# From series to dataframes\n",
        "\n",
        "serie1 = pd.Series([1., 2., 3.], index=['a', 'b', 'c'])\n",
        "serie2 = pd.Series([4., 3., 2., 1.], index=['a', 'b', 'c', 'd'])\n",
        "\n",
        "df2 = pd.DataFrame({'serie1': serie1, 'serie2': serie2}) ## con el argumento index=[...] podemos cambiar los nombres de las columnas\n",
        "\n",
        "df2"
      ]
    },
    {
      "cell_type": "code",
      "execution_count": null,
      "metadata": {
        "id": "mYLmWxqKN_2x"
      },
      "outputs": [],
      "source": [
        "df2.plot.line(y=['serie1','serie2'])"
      ]
    },
    {
      "cell_type": "code",
      "execution_count": null,
      "metadata": {
        "id": "YShFC5shOM2g"
      },
      "outputs": [],
      "source": [
        "# Columns and indexes are also series, which can be modified\n",
        "\n",
        "print(df2.index, df2.columns)\n"
      ]
    },
    {
      "cell_type": "markdown",
      "metadata": {
        "id": "HP5yr3RMAauK"
      },
      "source": [
        "**Exercise 3**: Change the names of the series to 'S1' and 'S2', and complete properly the series 'series1'. Plot the result."
      ]
    },
    {
      "cell_type": "markdown",
      "metadata": {
        "id": "qT3A0cGuAu_T"
      },
      "source": [
        "We can easlify find correlations between the numerical columns as follows:"
      ]
    },
    {
      "cell_type": "code",
      "execution_count": null,
      "metadata": {
        "id": "JWCB15WEvZpb"
      },
      "outputs": [],
      "source": [
        "# https://pandas.pydata.org/pandas-docs/stable/reference/api/pandas.DataFrame.corr.html\n",
        "\n",
        "df2.corr()"
      ]
    },
    {
      "cell_type": "markdown",
      "metadata": {
        "id": "3FAf1DLoP_TM"
      },
      "source": [
        "The columns of the dataframe can be selected in a similar way to what we saw with dictionaries."
      ]
    },
    {
      "cell_type": "code",
      "execution_count": null,
      "metadata": {
        "id": "6h0-lA15PW9y"
      },
      "outputs": [],
      "source": [
        "## We select the series from column 'one'\n",
        "\n",
        "df2['serie1']"
      ]
    },
    {
      "cell_type": "code",
      "execution_count": null,
      "metadata": {
        "id": "1qO_oqwrQLp5"
      },
      "outputs": [],
      "source": [
        "## We can also add and delete columns in a similar way to dictionary keys\n",
        "\n",
        "df2['serie3'] = 20\n",
        "\n",
        "print(df2)\n",
        "\n",
        "del df2['serie3'] ## deleted forever!\n",
        "\n",
        "print(df2)"
      ]
    },
    {
      "cell_type": "code",
      "execution_count": null,
      "metadata": {
        "id": "a3gCfHk7Y7ZD"
      },
      "outputs": [],
      "source": [
        "df2['serie3'] = 20\n",
        "\n",
        "df2.drop(columns='serie3', inplace=True) ## returns a copy, unless you use inplace=True"
      ]
    },
    {
      "cell_type": "code",
      "execution_count": 1,
      "metadata": {
        "id": "R5XegNCbZDj7"
      },
      "outputs": [
        {
          "ename": "NameError",
          "evalue": "name 'df2' is not defined",
          "output_type": "error",
          "traceback": [
            "\u001b[1;31m---------------------------------------------------------------------------\u001b[0m",
            "\u001b[1;31mNameError\u001b[0m                                 Traceback (most recent call last)",
            "Cell \u001b[1;32mIn[1], line 1\u001b[0m\n\u001b[1;32m----> 1\u001b[0m \u001b[43mdf2\u001b[49m\n",
            "\u001b[1;31mNameError\u001b[0m: name 'df2' is not defined"
          ]
        }
      ],
      "source": [
        "df2"
      ]
    },
    {
      "cell_type": "code",
      "execution_count": null,
      "metadata": {
        "id": "z2vJKAkBQQQB"
      },
      "outputs": [],
      "source": [
        "## Creating new columns from existing ones is very intuitive\n",
        "\n",
        "df2['serie3'] = df2['serie1'] * 10 + df2['serie2']\n",
        "\n",
        "df2"
      ]
    },
    {
      "cell_type": "markdown",
      "metadata": {
        "id": "bWQvtXrVBhh1"
      },
      "source": [
        "Applying comparisons to series generates new series of boolean values."
      ]
    },
    {
      "cell_type": "code",
      "execution_count": null,
      "metadata": {
        "id": "_VNJKoV9M5TB"
      },
      "outputs": [],
      "source": [
        "df2['serie1'] > df2['serie2']"
      ]
    },
    {
      "cell_type": "markdown",
      "metadata": {
        "id": "PE24vTVYBsGF"
      },
      "source": [
        "Lambda functions can be applied as well to generate new columns."
      ]
    },
    {
      "cell_type": "code",
      "execution_count": null,
      "metadata": {
        "id": "sGCCm0pbZfhs"
      },
      "outputs": [],
      "source": [
        "df2.assign(serie4 = lambda x: (x.serie1 > x.serie2).astype(float)) ## returns a copy"
      ]
    },
    {
      "cell_type": "code",
      "execution_count": null,
      "metadata": {
        "id": "DqtG6U_DaCdD"
      },
      "outputs": [],
      "source": [
        "df2"
      ]
    },
    {
      "cell_type": "markdown",
      "metadata": {
        "id": "1lvfOw4uB1Ge"
      },
      "source": [
        "Treating null values can be applied to all the dataframe."
      ]
    },
    {
      "cell_type": "code",
      "execution_count": null,
      "metadata": {
        "id": "OLWkFCpexXEJ"
      },
      "outputs": [],
      "source": [
        "# Remove rows with null values\n",
        "\n",
        "df2.dropna() #Note: returns a copy, use inplace=True to modify the existing dataframe"
      ]
    },
    {
      "cell_type": "markdown",
      "metadata": {
        "id": "3kKewfmRCJcl"
      },
      "source": [
        "**Question:** How can remove the columns having some null value?"
      ]
    },
    {
      "cell_type": "code",
      "execution_count": null,
      "metadata": {
        "id": "K9D5yUR0xfXp"
      },
      "outputs": [],
      "source": [
        "## Fill null values with some fix value\n",
        "\n",
        "df2.fillna(value=0) #Note: this is not a copy"
      ]
    },
    {
      "cell_type": "markdown",
      "metadata": {
        "id": "feoSqzlp-heN"
      },
      "source": [
        "The above operations return new dataframes, and therefore do not alter the content of the original dataframe. To change the content of the dataframe we can either assign the result to the same dataframe, or use the inplace argument (more efficient).\n"
      ]
    },
    {
      "cell_type": "code",
      "execution_count": null,
      "metadata": {
        "id": "q-oMPM9VxvQt"
      },
      "outputs": [],
      "source": [
        "#df2 = df2.dropna()\n",
        "\n",
        "df2.dropna(inplace=True)"
      ]
    },
    {
      "cell_type": "code",
      "execution_count": null,
      "metadata": {
        "id": "aK6sCJs7yKHB"
      },
      "outputs": [],
      "source": [
        "df2"
      ]
    },
    {
      "cell_type": "markdown",
      "metadata": {
        "id": "hg723M5N_FQH"
      },
      "source": [
        "**APPLY**: This function allows you to perform any type of transformation on any of the axes using anonymous or user-defined functions. Same as assign, returns the transformed dataframe."
      ]
    },
    {
      "cell_type": "code",
      "execution_count": null,
      "metadata": {
        "id": "uNXTr20e1WaE"
      },
      "outputs": [],
      "source": [
        "# The lambda function iterates over the rows (axis=1)\n",
        "\n",
        "df2.apply(lambda x: x.serie1 * x.serie2, axis=1)"
      ]
    },
    {
      "cell_type": "code",
      "execution_count": null,
      "metadata": {
        "id": "R3jLePTfA2Jx"
      },
      "outputs": [],
      "source": [
        "df2.apply(np.sqrt) ## applied to all the dataframe"
      ]
    },
    {
      "cell_type": "code",
      "execution_count": null,
      "metadata": {
        "id": "ki-QqxDp16uH"
      },
      "outputs": [],
      "source": [
        "# we can generate new columns with the apply function\n",
        "\n",
        "df2['producto'] = df2.apply(lambda x: x['serie1'] * x['serie2'], axis=1)\n",
        "\n",
        "df2.head()"
      ]
    },
    {
      "cell_type": "code",
      "execution_count": null,
      "metadata": {
        "id": "L6Tv2brhVvMW"
      },
      "outputs": [],
      "source": [
        "## or we can use apply to just one specific column\n",
        "\n",
        "df2['dos_mayor_3'] = df2['serie2'].apply(lambda x: 1 if x > 3 else 0)\n",
        "\n",
        "df2.head()"
      ]
    },
    {
      "cell_type": "markdown",
      "metadata": {
        "id": "EOrsbeR1DH7d"
      },
      "source": [
        "**Question:** Can we use apply over a subset of columns? How can we do this?"
      ]
    },
    {
      "cell_type": "code",
      "execution_count": null,
      "metadata": {
        "id": "qiNODbf12KuM"
      },
      "outputs": [],
      "source": [
        "# For columns (axis 0), we iterate over the columns (series)\n",
        "\n",
        "sumas = df2.apply(lambda x: np.sum(x) )"
      ]
    },
    {
      "cell_type": "markdown",
      "metadata": {
        "id": "IQavOPFUzsM7"
      },
      "source": [
        "## EXERCISES\n",
        "\n",
        "**Exercise 4.** Numpy allows you to create arrays of random numbers with the random object (see the attached links). Create a dataframe with three series and column names that you want. Then create an extra column with the sum of the previous columns (called \"sum\"), and another column called \"sign_sum\" where it indicates whether the sign of the sum is positive (1) or negative (-1).\n",
        "\n",
        "https://numpy.org/doc/stable/reference/random/generated/numpy.random.rand.html\n",
        "\n",
        "https://numpy.org/doc/stable/reference/random/generated/numpy.random.randint.html\n",
        "\n",
        "\n"
      ]
    },
    {
      "cell_type": "markdown",
      "metadata": {
        "id": "wUluFSze3Vyq"
      },
      "source": [
        "**Exercise 5.** Using the *apply* function and the previous dataframe, normalize the series so that they always add up to one."
      ]
    },
    {
      "cell_type": "code",
      "execution_count": null,
      "metadata": {
        "id": "Ia24Bc6U7dxs"
      },
      "outputs": [],
      "source": [
        "# totals per column\n",
        "\n",
        "# divide series per totals"
      ]
    },
    {
      "cell_type": "markdown",
      "metadata": {
        "id": "_g9NBv6v4fvn"
      },
      "source": [
        "**Exercise 6.** With the `shift` function you can shift a series according to the specified period. From the passenger dataframe (df), add a shifted series and calculate the **autocorrelation** between the original and the shifted series."
      ]
    },
    {
      "cell_type": "code",
      "execution_count": null,
      "metadata": {
        "id": "NMSBve6f5Cmy"
      },
      "outputs": [],
      "source": [
        "# add the shited series as a new column\n",
        "\n",
        "# calculate the correlation"
      ]
    },
    {
      "cell_type": "markdown",
      "metadata": {
        "id": "bKeYWSFcZLzk"
      },
      "source": [
        "**Note**: You can use the random functions of numpy to generate the necessary data for the exercises."
      ]
    },
    {
      "cell_type": "code",
      "execution_count": null,
      "metadata": {
        "id": "29kdY5xlXpce"
      },
      "outputs": [],
      "source": [
        "# randint between 100 and 300\n",
        "100 + np.random.randint(200, size=(5,))"
      ]
    },
    {
      "cell_type": "code",
      "execution_count": null,
      "metadata": {
        "id": "tMQ5rBu8Yfqm"
      },
      "outputs": [],
      "source": [
        "#rand between 100 and 300\n",
        "100 + np.random.rand(5) * 200"
      ]
    },
    {
      "cell_type": "markdown",
      "metadata": {
        "id": "hvthzfa2VutF"
      },
      "source": [
        "# CHALLENGE EXERCISE\n",
        "\n",
        "This exercise is optional and it is not necessary to include it in the weekly deliverable. We will work all together to find out the solution.\n",
        "\n",
        "If you don't have reported your skills, please fill in the following Google form:\n",
        "\n",
        "https://forms.gle/PkkagVDxPwrozg4M6\n",
        "\n",
        "\n",
        "**Problem:** Given the results of the questionaire about the students' Data Science skills (see link below), you have to import and transform the results reported of the Google Sheet to obtain similar visualizations to those provided by Google Forms. Additionally, you have to calculate the correlations between the different skills.\n",
        "\n",
        "https://docs.google.com/spreadsheets/d/1-Cw9X9zLtEVuCn611cDltmFUSAdI6BR7AkMXYDMOg6o/edit?usp=drive_link"
      ]
    },
    {
      "cell_type": "code",
      "execution_count": null,
      "metadata": {
        "id": "OlqwMkG9VxT0"
      },
      "outputs": [],
      "source": [
        "'''\n",
        "  TASKS:\n",
        "  1. Connect and import data from a shared Google Sheet (or download it as a CSV file)\n",
        "  2. Create a new dataframe with the imported data\n",
        "  4. Calculate statistics and visualize the summarised data\n",
        "'''\n"
      ]
    },
    {
      "cell_type": "code",
      "execution_count": null,
      "metadata": {
        "id": "IE9hdKG9W_JK"
      },
      "outputs": [],
      "source": []
    }
  ],
  "metadata": {
    "colab": {
      "collapsed_sections": [
        "u8MOXf7SFXXQ",
        "BSf7Lv1PFH8s",
        "ILSlS6eHIFqJ",
        "4wNBCL6dKPIB",
        "IQavOPFUzsM7"
      ],
      "provenance": []
    },
    "kernelspec": {
      "display_name": "Python 3",
      "name": "python3"
    },
    "language_info": {
      "codemirror_mode": {
        "name": "ipython",
        "version": 3
      },
      "file_extension": ".py",
      "mimetype": "text/x-python",
      "name": "python",
      "nbconvert_exporter": "python",
      "pygments_lexer": "ipython3",
      "version": "3.12.2"
    }
  },
  "nbformat": 4,
  "nbformat_minor": 0
}

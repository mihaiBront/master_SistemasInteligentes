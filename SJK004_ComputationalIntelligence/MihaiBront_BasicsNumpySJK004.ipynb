{
  "cells": [
    {
      "cell_type": "markdown",
      "metadata": {
        "id": "zYGI2mAFvAWg"
      },
      "source": [
        "<font color='lightblue' size=6>Practice 1: First part. Review of python, numpy, and matplotlib</font>"
      ]
    },
    {
      "cell_type": "markdown",
      "metadata": {
        "id": "D4kFjrrooYcE"
      },
      "source": [
        "<font color='red'> Modify this text section and put your name in *bold*\n",
        "</font>\n",
        "---\n",
        "\n"
      ]
    },
    {
      "cell_type": "markdown",
      "metadata": {
        "id": "qfG5Oj8WcEaT"
      },
      "source": [
        "**Google Colab** is an interactive web environment for executing python scripts (even in the R language too). It is designed for writing prototypes, examples and tutorials."
      ]
    },
    {
      "cell_type": "code",
      "execution_count": 5,
      "metadata": {
        "colab": {
          "base_uri": "https://localhost:8080/",
          "height": 106
        },
        "id": "_CmNx20C5FgF",
        "outputId": "94853bbc-e9e3-4ef7-9e02-b04e136ba812"
      },
      "outputs": [],
      "source": [
        "import numpy as np"
      ]
    },
    {
      "cell_type": "markdown",
      "metadata": {
        "id": "ftzkr-7WccuC"
      },
      "source": [
        "It is very convenient to read and understand how python works by doing this tutorial in the [w3schools python](https://www.w3schools.com/python/) site. ***Please, do it!***\n",
        "\n",
        "Once doing that.\n",
        "Let refresh some code and do some exercises."
      ]
    },
    {
      "cell_type": "markdown",
      "metadata": {
        "id": "yIRmGfOfUjAS"
      },
      "source": [
        "<font color='lightblue' size=6>***python 3.x***</font>"
      ]
    },
    {
      "cell_type": "markdown",
      "metadata": {
        "id": "eehk3F2Gci4h"
      },
      "source": [
        "First. Let refresh some basic python code.\n",
        "\n",
        "Run the following code.\n",
        "\n",
        "Note the print of the b object. What does it mean?"
      ]
    },
    {
      "cell_type": "code",
      "execution_count": 24,
      "metadata": {
        "colab": {
          "base_uri": "https://localhost:8080/"
        },
        "id": "01wIHcH01mDz",
        "outputId": "323bc878-8597-4054-f5b8-f77da53d6dd0"
      },
      "outputs": [
        {
          "name": "stdout",
          "output_type": "stream",
          "text": [
            "[1, 2, 3, 4, 5, 6, 7, 8]\n",
            "range(0, 4)\n"
          ]
        }
      ],
      "source": [
        "a = [1, 2, 3, 4, 5, 6, 7, 8]\n",
        "b = range(4)\n",
        "print(a)\n",
        "print(b)"
      ]
    },
    {
      "cell_type": "markdown",
      "metadata": {
        "id": "GI5sZQM7XlyC"
      },
      "source": [
        "Why print(b) returns that?"
      ]
    },
    {
      "cell_type": "markdown",
      "metadata": {},
      "source": [
        "**RESPONSE:** *Because it is an object of the `range` class*"
      ]
    },
    {
      "cell_type": "markdown",
      "metadata": {
        "id": "5mMmp0ahc09h"
      },
      "source": [
        "Lets remember how to write functions, if structures and loops.\n",
        "\n",
        "<font color='brown' size=6> **Exercise 1** </font>\n",
        "\n",
        "Write a function in python named \"listsum\" that receiving two lists of integers, returns a new list containing the pairwise sum of these two lists. For example: giving lists a = [1, 2, 3, 4, 5, 6] and b = [0, 1, 2, 3], print(listsum(a,b)) must show [1, 3, 5, 7, 5, 6].\n",
        "\n",
        "Complete the code following the comments showed below (just to remenber some basic control python structures)."
      ]
    },
    {
      "cell_type": "code",
      "execution_count": 48,
      "metadata": {
        "colab": {
          "base_uri": "https://localhost:8080/",
          "height": 106
        },
        "id": "s7Z1_a88IO9F",
        "outputId": "b24332f4-22d2-47e8-bbdb-57b2d3c36b32"
      },
      "outputs": [],
      "source": [
        "def listsum(a, b): # Code to complete\n",
        "  # Calculate the min of both lists\n",
        "  # define a new list\n",
        "  # put in the new list the common bitwise sum of the two lists\n",
        "  newListSize = min([len(a), len(b)])\n",
        "  newList = []\n",
        "  for i in range(newListSize):\n",
        "    newList.append(a[i] + b[i])\n",
        "  # if the list a is bigger than list b,\n",
        "  if len(a) > len(b):\n",
        "    newList += a[newListSize:]\n",
        "  elif len(b) > len(a):\n",
        "    newList += b[newListSize:]\n",
        "  #   put the remaining elements of list a in the new list\n",
        "  # else put the remaining elements of list b in the new list\n",
        "  \n",
        "  # return the new list\n",
        "  return newList"
      ]
    },
    {
      "cell_type": "code",
      "execution_count": 49,
      "metadata": {
        "id": "CZxWecAnKjHd"
      },
      "outputs": [
        {
          "name": "stdout",
          "output_type": "stream",
          "text": [
            "With previous block's values[1, 3, 5, 7, 5, 6, 7, 8]\n",
            "With this exercices values: [1, 3, 5, 7, 5, 6]\n",
            "And if the second parameter list is longer than the first: [1, 3, 5, 7, 5, 6] (the result should be the same)\n"
          ]
        }
      ],
      "source": [
        "print(f\"With previous block's values{listsum(a,b)}\")\n",
        "\n",
        "\n",
        "a_ex1 = [1, 2, 3, 4, 5, 6]\n",
        "b_ex1 = [0,1,2,3]\n",
        "print(f\"With this exercices values: {listsum(a_ex1, b_ex1)}\")\n",
        "\n",
        "print(f\"And if the second parameter list is longer than the first: {listsum(b_ex1, a_ex1)} (the result should be the same)\")\n"
      ]
    },
    {
      "cell_type": "markdown",
      "metadata": {
        "id": "0dybGZzujzFB"
      },
      "source": [
        "Lists can also be manipulated with slices. Remember: what is a slice?\n",
        "\n",
        "<font color='brown' size=6> **Exercise 2** </font>\n",
        "\n",
        "Using slices write one line of code for each operacion described bellow:\n",
        "1. print from list a the elements from position 3 to position 7 with step 2.\n",
        "2. print from list a the elements from position 3 to the end with step 2.\n",
        "3. print from list a in reverse order."
      ]
    },
    {
      "cell_type": "code",
      "execution_count": 63,
      "metadata": {
        "id": "7dWgaf6wIc3a"
      },
      "outputs": [
        {
          "name": "stdout",
          "output_type": "stream",
          "text": [
            "List A is: [4, 2, 0, 5, 3, 9, 6, 4, 8, 6, 5, 4, 3]\n",
            "Positions 3 to 7 from list with step 2 are: [5, 9, 4]\n",
            "Positions from 3 to end are: [5, 9, 4, 6, 4]\n",
            "List in reverse is [3, 4, 5, 6, 8, 4, 6, 9, 3, 5, 0, 2, 4]\n",
            "[4, 2, 0, 5, 3, 9, 6, 4, 8, 6, 5, 4, 3]\n"
          ]
        }
      ],
      "source": [
        "# define a list\n",
        "ex2_list = [4, 2, 0, 5, 3, 9, 6, 4, 8, 6, 5, 4, 3]\n",
        "print(f\"List A is: {ex2_list}\")\n",
        "\n",
        "print(f\"Positions 3 to 7 from list with step 2 are: {[ex2_list[i] for i in range(3,8,2)]}\")\n",
        "print(f\"Positions from 3 to end are: {[ex2_list[i] for i in range(3, len(ex2_list),2)]}\")\n",
        "print(f\"List in reverse is {list(reversed(ex2_list))}\")"
      ]
    },
    {
      "cell_type": "markdown",
      "metadata": {
        "id": "DKcl4CXLnr9x"
      },
      "source": [
        "<font color='brown' size=6> **Exercise 3** </font>\n",
        "\n",
        "Write a python code to print the elements at odd locations in a list in reverse order"
      ]
    },
    {
      "cell_type": "markdown",
      "metadata": {},
      "source": [
        "There is more than one interpretation to this question. For instance, if the length of the list is even, the odd positions will not be the same in reverse as in forward, so i will take the following approach:\n",
        "    1. Identify which are the odd elements (while the list is normally ordered (as passed))\n",
        "    2. Reverse the order of those values"
      ]
    },
    {
      "cell_type": "code",
      "execution_count": 70,
      "metadata": {
        "id": "68tvMKCtndsh"
      },
      "outputs": [
        {
          "data": {
            "text/plain": [
              "[4, 6, 4, 9, 5, 2]"
            ]
          },
          "execution_count": 70,
          "metadata": {},
          "output_type": "execute_result"
        }
      ],
      "source": [
        "ex2_list = [4, 2, 0, 5, 3, 9, 6, 4, 8, 6, 5, 4, 3]\n",
        "\n",
        "def printOddPosFromListInReverse(source: list):\n",
        "    ret_list = [source[i] for i in range(1, len(source), 2)] # getting the even numbers (range from 1, with step 2; so 1, 3, 5)\n",
        "    ret_list = list(reversed(ret_list)) # reversing new list\n",
        "    return ret_list\n",
        "\n",
        "printOddPosFromListInReverse(ex2_list)"
      ]
    },
    {
      "cell_type": "markdown",
      "metadata": {
        "id": "sxSnbs1Jcjtw"
      },
      "source": [
        "Lets remember how to use list comprehension.\n",
        "\n",
        "<font color='brown' size=6> **Exercise 4** </font>\n",
        "\n",
        "Write a python function \"prime\" to calculate if a number is prime or not. Then write some other lines of code to print a list called *primes* that stores all the prime numbers from 1 to 99 inclusive."
      ]
    },
    {
      "cell_type": "code",
      "execution_count": 88,
      "metadata": {
        "id": "CiROFjqgcmMD"
      },
      "outputs": [],
      "source": [
        "def prime(number: int):\n",
        "    if number <= 1: # these are sometimes not considered primes...\n",
        "        return False\n",
        "    \n",
        "    if number > 3: # we know that 0 - 3 are prime\n",
        "        for n in range(2, number-1):\n",
        "            if number % n == 0:\n",
        "                return False\n",
        "            \n",
        "    return True\n",
        "\n",
        "numbers = list(range(1, 100))"
      ]
    },
    {
      "cell_type": "markdown",
      "metadata": {
        "id": "k-RCtyK7cxiw"
      },
      "source": [
        "Now, using list comprehension, the above code can be rewritten as:"
      ]
    },
    {
      "cell_type": "code",
      "execution_count": 113,
      "metadata": {
        "id": "LHaYcllnczAv"
      },
      "outputs": [
        {
          "name": "stdout",
          "output_type": "stream",
          "text": [
            "[2, 3, 5, 7, 11, 13, 17, 19, 23, 29, 31, 37, 41, 43, 47, 53, 59, 61, 67, 71, 73, 79, 83, 89, 97]\n"
          ]
        }
      ],
      "source": [
        "primes = [n for n in numbers if prime(n)]\n",
        "print(primes)"
      ]
    },
    {
      "cell_type": "markdown",
      "metadata": {
        "id": "xkebP2NYc6Wy"
      },
      "source": [
        "Run it and note the results obtained. Does it not more **cachy**? -)\n",
        "\n",
        "Now, look for information on the zip function and do the next exercise.\n",
        "\n",
        "<font color='brown' size=6> **Exercise 5** </font>\n",
        "\n",
        "Write python code defining a list a with numbers from 2 to 9 inclusive, b with numbers 1 to 8 sith step 2. Make a zip with lists a, b, a, a and print the result of that zip (which will be [(2, 1, 2, 2), (3, 3, 3, 3), (4, 5, 4, 4), (5, 7, 5, 5)])"
      ]
    },
    {
      "cell_type": "code",
      "execution_count": 100,
      "metadata": {
        "id": "uo0TwPFyds1j"
      },
      "outputs": [
        {
          "name": "stdout",
          "output_type": "stream",
          "text": [
            "[(2, 1, 2, 2), (3, 3, 3, 3), (4, 5, 4, 4), (5, 7, 5, 5)]\n"
          ]
        }
      ],
      "source": [
        "\n",
        "a = list(range(2,10))\n",
        "b = list(range(1,9,2))\n",
        "\n",
        "# making zip\n",
        "res = zip(a, b, a, a)\n",
        "tuple_list = [tup for tup in res]\n",
        "\n",
        "# printing its result\n",
        "print(tuple_list)\n",
        "\n"
      ]
    },
    {
      "cell_type": "markdown",
      "metadata": {
        "id": "zKT8roIsd-cn"
      },
      "source": [
        "The module random is also heavily used. So, lets remember some of its functions.\n",
        "\n",
        "<font color='brown' size=6> **Exercise 6** </font>\n",
        "\n",
        "Write python code for doing the following operations:\n",
        "1. print a float random number between 0 and 1\n",
        "2. print a uniform float random number between 2 and 99.\n",
        "3. print an uniform integer random number bewtween 2 and 99.\n",
        "4. print the shuffle primes list. What result is shown?\n",
        "5. print a random sample of length 10  of the primes list"
      ]
    },
    {
      "cell_type": "code",
      "execution_count": 101,
      "metadata": {
        "id": "RdwGvK6geEmz"
      },
      "outputs": [],
      "source": [
        "import random as random"
      ]
    },
    {
      "cell_type": "code",
      "execution_count": 120,
      "metadata": {},
      "outputs": [
        {
          "name": "stdout",
          "output_type": "stream",
          "text": [
            "Radnom float between 0 and 1 is: 0.27463940060122327\n",
            "Uniform radnom float between 2 and 99 is: 83.8019543978835\n",
            "Uniform radnom int between 2 and 99 is: 38\n",
            "Shuffled primes list is: [61, 23, 5, 67, 53, 37, 11, 83, 43, 59, 17, 2, 41, 71, 19, 79, 29, 47, 13, 89, 73, 7, 97, 31, 3]\n"
          ]
        }
      ],
      "source": [
        "random_float = random.random()\n",
        "print(f\"Radnom float between 0 and 1 is: {random_float}\")\n",
        "\n",
        "random_float = random.uniform(2, 99)\n",
        "print(f\"Uniform radnom float between 2 and 99 is: {random_float}\")\n",
        "\n",
        "random_float = random.randint(2, 99)\n",
        "print(f\"Uniform radnom int between 2 and 99 is: {random_float}\") #??\n",
        "\n",
        "random.shuffle(primes)\n",
        "print(f\"Shuffled primes list is: {primes}\")\n"
      ]
    },
    {
      "cell_type": "markdown",
      "metadata": {
        "id": "1svAiJbjn55a"
      },
      "source": [
        "Remember now how a class can be defined in python (That is very well described in the w3school link provided at the beginning of this notebook).\n",
        "\n",
        "Review documentation of the module \"collections\", and concisely the functions \"namedtuple\" and \"deque\". Then, solve the next exercise\n",
        "\n",
        "<font color='brown' size=6> **Exercise 7** </font>\n",
        "\n",
        "First, write a namedtuple called *Transition* that has 4 fields with the names *state*, *action*, *next_state* and *reward*\n",
        "Write a class called *ReplayMemory* that stores a \"memory\" programmed as a <font color='brown' size=4> deque </font> with its maximum length provided as a parameter in the constructor. This class also has to be able to provide 2 operations: *push*, that add one Transition to the \"memory\"; and *sample*, that returns a sample of a given length from the \"memory\". An object of ReplayMemory can be asked about its lenght, that returns the length of its internal \"memory\".\n",
        "Then execute the following lines of code to obtain the output:\n",
        "\n",
        "3\n",
        "\n",
        "[Transition(state=9, action=10, next_state=11, reward=12), Transition(state=5, action=6, next_state=7, reward=8)] (***for example***)"
      ]
    },
    {
      "cell_type": "code",
      "execution_count": 123,
      "metadata": {
        "id": "b4gJnMb0zh21"
      },
      "outputs": [],
      "source": [
        "from collections import namedtuple, deque"
      ]
    },
    {
      "cell_type": "code",
      "execution_count": 134,
      "metadata": {},
      "outputs": [
        {
          "name": "stdout",
          "output_type": "stream",
          "text": [
            "3\n",
            "ReplayMemory([Transition(state=1, action=2, next_state=3, reward=4), Transition(state=5, action=6, next_state=7, reward=8), Transition(state=9, action=10, next_state=11, reward=12)])\n"
          ]
        }
      ],
      "source": [
        "\n",
        "Transition = namedtuple(\"Transition\", \"state, action, next_state, reward\")\n",
        "\n",
        "me = Transition(state=0, action=1, next_state=2, reward=15)\n",
        "\n",
        "class ReplayMemory(deque):\n",
        "    _maxlen: int\n",
        "    \n",
        "    def __init__(self, maxlen):\n",
        "        self._maxlen = maxlen \n",
        "    \n",
        "    def push(self, state:int, action:int, next_state:int, reward:int):\n",
        "        if len(self) < self._maxlen:\n",
        "            self.append(Transition(state, action, next_state, reward))\n",
        "        \n",
        "    def sample(self, length: int):\n",
        "        if length > len(self):\n",
        "            return self[:length]\n",
        "        else:\n",
        "            return self\n",
        "\n",
        "memoria = ReplayMemory(10)\n",
        "memoria.push(1,2,3,4)\n",
        "memoria.push(5,6,7,8)\n",
        "memoria.push(9,10,11,12)\n",
        "print(len(memoria))\n",
        "print(memoria.sample(2))"
      ]
    },
    {
      "cell_type": "markdown",
      "metadata": {
        "id": "qkoTz1x7oagU"
      },
      "source": [
        "<font color='lightblue' size=6>***numpy***</font>"
      ]
    },
    {
      "cell_type": "markdown",
      "metadata": {
        "id": "5mMNDXsR16nT"
      },
      "source": []
    },
    {
      "cell_type": "markdown",
      "metadata": {
        "id": "S4JaAaHaoeeU"
      },
      "source": [
        "Numpy was designed to deal with large mutidimensional arrays (because they absent in standard python) to provide efficient computations. Behind each call to a numpy funcion there is a pre-compiled C code that runs much faster than its equivalent python code).\n",
        "\n",
        "It is very convenient, belive me!, that you read and fully understand the exercises of the numpy tutorial in https://www.w3schools.com/python/numpy/default.asp. All of them!\n",
        "\n",
        "Doing that you are going to save a great amount of time later when makig exercises on neural networks (in this subject or other subjects in this master)\n",
        "\n",
        "Additionally, do the following exercises of this notebook."
      ]
    },
    {
      "cell_type": "markdown",
      "metadata": {
        "id": "NlXf-KZMomPD"
      },
      "source": [
        "The main data structure of numpy are <font color='brown' size=4> numpy arrays </font>. Remenber to import module numpy before starting to use the examples below. Given that numpy funcions are used very frequently is a good option to rename the module as np for not to be verbose when using its available funcions.\n",
        "Execute the following code and understand the results obtained."
      ]
    },
    {
      "cell_type": "code",
      "execution_count": 136,
      "metadata": {
        "id": "n55LT2b7opu1"
      },
      "outputs": [],
      "source": [
        "import numpy as np"
      ]
    },
    {
      "cell_type": "code",
      "execution_count": 137,
      "metadata": {
        "id": "w5X3PIott9OY"
      },
      "outputs": [
        {
          "name": "stdout",
          "output_type": "stream",
          "text": [
            "[ 1  2  3  4  5  6  7  8  9 10 11 12 13 14 15 16 17 18 19]\n",
            "range(1, 20)\n",
            "[1, 2, 3, 4, 5, 6, 7, 8, 9, 10, 11, 12, 13, 14, 15, 16, 17, 18, 19]\n"
          ]
        }
      ],
      "source": [
        "numbers_np = np.array(range(1,20))\n",
        "numbers_py = range(1,20)\n",
        "print(numbers_np)\n",
        "print(numbers_py)\n",
        "numbers_py = list(numbers_py)\n",
        "print(numbers_py)  # Do you note the difference?"
      ]
    },
    {
      "cell_type": "markdown",
      "metadata": {
        "id": "wtDTpmSYuAOG"
      },
      "source": [
        "A lot of standard functions in python have their equivalent versions rewriten in numpy. numpy arrays can also be indexed and sliced as in python lists.\n",
        "\n",
        "Run the following code and observe the results"
      ]
    },
    {
      "cell_type": "code",
      "execution_count": 140,
      "metadata": {
        "id": "fGS2jVa2uDqF"
      },
      "outputs": [
        {
          "name": "stdout",
          "output_type": "stream",
          "text": [
            "[2 4]\n",
            "[2 3 4 5]\n",
            "[4, 7, 10, 13, 16]\n",
            "[19 18 17 16 15 14 13 12 11 10  9  8  7  6  5  4  3  2  1]\n"
          ]
        }
      ],
      "source": [
        "print(numbers_np[1:5:2])\n",
        "print(numbers_np[1:5])\n",
        "print(numbers_py[3:-1:3])\n",
        "print(numbers_np[::-1])"
      ]
    },
    {
      "cell_type": "markdown",
      "metadata": {
        "id": "PVRu79FTuI0m"
      },
      "source": [
        "But numpy arrays can also be used to **index** other numpy arrays in a great variety of ways.\n",
        "\n",
        "<<font color='brown' size=6> **Exercise 8** </font>\n",
        "\n",
        "Write some numpy code using indexing to:\n",
        "\n",
        "*   Print values from positions 5, 1, 8 and 2 of the *numbers_np* array.\n",
        "*   Code a numpy array called *participants* that contains consecutive natural numbers from 1 to 20.\n",
        "*   Code a numpy array called *times* that contains 20 random natural numbers from 180 to 300.\n",
        "*   Print a boolean array containing *true*  for the values of *times* that are less than 240.\n",
        "*   Print the values of *participants* for those positions where the values of *times* are less that 240.\n",
        "*   Print the values of *times* whose values are less than 240.\n",
        "*   Code a numpy array called *participants* hat contains a random permutation of the first 20 natural numbers.\n",
        "*   Print the values of the *times* in the order given by \"participants*\n",
        "\n",
        "\n",
        "\n"
      ]
    },
    {
      "cell_type": "code",
      "execution_count": 167,
      "metadata": {
        "id": "d3Pvqgs8uMTA"
      },
      "outputs": [
        {
          "name": "stdout",
          "output_type": "stream",
          "text": [
            "Print values from positions 5, 1, 8 and 2 of the numbers_np array: [6 2 9 3]\n",
            "\n",
            "Code a numpy array called *participants* that contains consecutive natural numbers from 1 to 20: [ 1  2  3  4  5  6  7  8  9 10 11 12 13 14 15 16 17 18 19 20]\n",
            "\n",
            "Code a numpy array called *times* that contains 20 random natural numbers from 180 to 300: [206. 269. 250. 180. 280. 194. 200. 285. 250. 185. 184. 262. 290. 248.\n",
            " 283. 251. 275. 248. 296. 235.]\n",
            "\n",
            "Values in 'times' that are < 240: [True, False, False, True, False, True, True, False, False, True, True, False, False, False, False, False, False, False, False, True]\n",
            "\n",
            "Values of *participants* for those positions where the values of *times* are less that 240. [ 1  4  6  7 10 11 20]\n",
            "\n",
            "Values of *times* whose values are less than 240: [206.0, 180.0, 194.0, 200.0, 185.0, 184.0, 235.0]\n",
            "\n",
            "Code a numpy array called *participants* hat contains a random permutation of the first 20 natural numbers: [ 3 16 14  2 18 17  6 13  7  4 10  1 12 20  8 11  5 19 15  9]\n",
            "\n",
            "Print the values of the *times* in the order given by participants: [250. 251. 248. 269. 248. 275. 194. 290. 200. 180. 185. 206. 262. 235.\n",
            " 285. 184. 280. 296. 283. 250.]\n"
          ]
        }
      ],
      "source": [
        "print(f\"Print values from positions 5, 1, 8 and 2 of the numbers_np array: {numbers_np[[5,1,8,2]]}\\n\")\n",
        "\n",
        "participants = np.linspace(1, 20, 20).astype(int)\n",
        "print(f\"Code a numpy array called *participants* that contains consecutive natural numbers from 1 to 20: {participants}\\n\")\n",
        "\n",
        "times = np.random.randint(180, 300, 20).astype(float)\n",
        "print(f\"Code a numpy array called *times* that contains 20 random natural numbers from 180 to 300: {times}\\n\")\n",
        "\n",
        "print(f\"Values in 'times' that are < 240: {[True if (n < 240) else False for n in times]}\\n\")\n",
        "print(f\"Values of *participants* for those positions where the values of *times* are less that 240. {participants[[i for i in range(len(times)) if times[i] < 240]]}\\n\")\n",
        "print(f\"Values of *times* whose values are less than 240: {[float(n) for n in times if n < 240]}\\n\") # float so it gets correctly printed through console, otherwhise, it will print the class, with its type (np.float64) in front\n",
        "\n",
        "rand_participants = participants.copy()\n",
        "np.random.shuffle(rand_participants)\n",
        "print(f\"Code a numpy array called *participants* hat contains a random permutation of the first 20 natural numbers: {rand_participants}\\n\")\n",
        "\n",
        "print(f\"Print the values of the *times* in the order given by participants: {times[rand_participants.astype(int) - 1]}\")\n",
        "\n",
        "\n"
      ]
    },
    {
      "cell_type": "markdown",
      "metadata": {
        "id": "q4YvMNF2uSIx"
      },
      "source": [
        "Arrays in numpy, as lists in conventional python, can also be sort. Try to figure out what output will be obtained before execute the following code."
      ]
    },
    {
      "cell_type": "code",
      "execution_count": 169,
      "metadata": {
        "id": "9L-uz9obuUya"
      },
      "outputs": [
        {
          "name": "stdout",
          "output_type": "stream",
          "text": [
            "[ 1  2  3  4  5  6  7  8  9 10 11 12 13 14 15 16 17 18 19 20]\n",
            "[206. 269. 250. 180. 280. 194. 200. 285. 250. 185. 184. 262. 290. 248.\n",
            " 283. 251. 275. 248. 296. 235.]\n",
            "[ 0  1  2  3  4  5  6  7  8  9 10 11 12 13 14 15 16 17 18 19]\n",
            "[ 1  2  3  4  5  6  7  8  9 10 11 12 13 14 15 16 17 18 19 20]\n",
            "[206. 269. 250. 180. 280. 194. 200. 285. 250. 185. 184. 262. 290. 248.\n",
            " 283. 251. 275. 248. 296. 235.]\n"
          ]
        }
      ],
      "source": [
        "print(participants)\n",
        "print(times[participants - 1]) # added -1 so it does not get out of bounds\n",
        "sorted_index = np.argsort(participants)\n",
        "print(sorted_index)\n",
        "print(participants[sorted_index])\n",
        "print(times[sorted_index])"
      ]
    },
    {
      "cell_type": "markdown",
      "metadata": {
        "id": "VWkrc_63xYQQ"
      },
      "source": [
        "numpy arrays are addapted to the size of the greatest of them in size when are involved in the same operation. I.e., the smaller one is make as big as the bigger one."
      ]
    },
    {
      "cell_type": "code",
      "execution_count": 170,
      "metadata": {
        "id": "bTxGqWsrx9aS"
      },
      "outputs": [
        {
          "name": "stdout",
          "output_type": "stream",
          "text": [
            "[5 7 9]\n",
            "[ 4 12 20]\n",
            "[5 7 9]\n",
            "[ 4 12 20]\n"
          ]
        }
      ],
      "source": [
        "a = np.array([1,3,5])\n",
        "b = np.array([4, 4, 4])\n",
        "print(a + b)\n",
        "print(a * b)\n",
        "b = 4\n",
        "print(a + b)\n",
        "print(a * b)"
      ]
    },
    {
      "cell_type": "markdown",
      "metadata": {
        "id": "bVKDiJDdxRSL"
      },
      "source": [
        "<<font color='brown' size=6> **Exercise 9** </font>\n",
        "\n",
        "Write a python funcion called *randomization* that receives a positive integer and returns a random  1 x n numpy array."
      ]
    },
    {
      "cell_type": "code",
      "execution_count": 177,
      "metadata": {
        "id": "jzF2hneWzA6R"
      },
      "outputs": [
        {
          "name": "stdout",
          "output_type": "stream",
          "text": [
            "(1, 17)\n"
          ]
        }
      ],
      "source": [
        "def radnomization(n: int):\n",
        "    if n < 1:\n",
        "        print(f\"ERROR: Passed parameter 'n' is negative or 0 (n={n})\")\n",
        "        return None\n",
        "    \n",
        "    return np.random.rand(n).reshape(1,n)\n",
        "\n",
        "\n",
        "print(radnomization(17).shape)\n"
      ]
    },
    {
      "cell_type": "markdown",
      "metadata": {
        "id": "oK4ZkFcAzm5C"
      },
      "source": [
        "<font color='brown' size=6> **Exercise 10** </font>\n",
        "\n",
        "Write a python funcion called *provider* that receives two positive integers *n* and *m*, makes tow random matrices *A* and *B* of size  nxm and returns *A*, *B*, and the sum of *A* and *B*."
      ]
    },
    {
      "cell_type": "code",
      "execution_count": 181,
      "metadata": {
        "id": "PH_jfhVO0Z2O"
      },
      "outputs": [
        {
          "data": {
            "text/plain": [
              "(array([[0.756899  , 0.43591204, 0.85219156, 0.43568429, 0.06715511,\n",
              "         0.54602085],\n",
              "        [0.30657228, 0.58849551, 0.62490823, 0.44040434, 0.25587628,\n",
              "         0.8363098 ],\n",
              "        [0.48607342, 0.02910169, 0.38594639, 0.09823568, 0.99665325,\n",
              "         0.95828457],\n",
              "        [0.03717695, 0.02887149, 0.50225108, 0.61323976, 0.25034482,\n",
              "         0.58096951],\n",
              "        [0.81132461, 0.36211957, 0.12848744, 0.08446865, 0.64322518,\n",
              "         0.84609002]]),\n",
              " array([[0.45388306, 0.86753085, 0.98935978, 0.76966802, 0.6136172 ,\n",
              "         0.69741818],\n",
              "        [0.52505841, 0.79177584, 0.12511265, 0.69942679, 0.78896912,\n",
              "         0.83600279],\n",
              "        [0.56307987, 0.49297348, 0.41633994, 0.20449834, 0.38327424,\n",
              "         0.60040535],\n",
              "        [0.32943957, 0.19886371, 0.60109912, 0.89459759, 0.35435222,\n",
              "         0.69424922],\n",
              "        [0.48186155, 0.09352912, 0.21366572, 0.60654209, 0.51177809,\n",
              "         0.88815241]]),\n",
              " array([[1.21078206, 1.30344289, 1.84155134, 1.20535231, 0.6807723 ,\n",
              "         1.24343903],\n",
              "        [0.83163069, 1.38027135, 0.75002088, 1.13983113, 1.0448454 ,\n",
              "         1.6723126 ],\n",
              "        [1.04915329, 0.52207517, 0.80228633, 0.30273402, 1.37992749,\n",
              "         1.55868992],\n",
              "        [0.36661652, 0.2277352 , 1.1033502 , 1.50783735, 0.60469705,\n",
              "         1.27521873],\n",
              "        [1.29318616, 0.45564868, 0.34215316, 0.69101075, 1.15500327,\n",
              "         1.73424243]]))"
            ]
          },
          "execution_count": 181,
          "metadata": {},
          "output_type": "execute_result"
        }
      ],
      "source": [
        "\n",
        "def provider(n, m):\n",
        "    A = np.random.rand(n,m)\n",
        "    B = np.random.rand(n,m)\n",
        "    return A, B, A + B\n",
        "\n",
        "\n",
        "provider(5, 6)\n"
      ]
    },
    {
      "cell_type": "markdown",
      "metadata": {
        "id": "WycKvcw407ZM"
      },
      "source": [
        "<font color='brown' size=6> **Exercise 11** </font>\n",
        "\n",
        "Write a python funcion called *norm2* that receives two column numpy arrays *a* and *b*, adds them and returns the L\" norm of their sum."
      ]
    },
    {
      "cell_type": "code",
      "execution_count": 194,
      "metadata": {
        "id": "lBLoGISM1k7v"
      },
      "outputs": [
        {
          "name": "stdout",
          "output_type": "stream",
          "text": [
            "Length of the [ 2 19  6  8] vector is 21.563858652847824(units)\n"
          ]
        }
      ],
      "source": [
        "\n",
        "def norm2(arr1: np.ndarray, arr2: np.ndarray):\n",
        "    if(len(arr1.shape) != 1 or len(arr2.shape) != 1):\n",
        "        print(\"ERROR: Passed arrays are not vectors\")\n",
        "        return None\n",
        "    if arr1.shape != arr2.shape:\n",
        "        print(\"ERROR: Arrays don't have the same shape\")\n",
        "        return None\n",
        "    \n",
        "    return np.sqrt(np.sum(np.pow(arr1 + arr2, 2)))\n",
        "\n",
        "v1 = np.array([1,17,3,4])\n",
        "v2 = np.array([1,2,3,4])\n",
        "\n",
        "print(f\"Length of the {v1+v2} vector is {norm2(v1, v2)}(units)\")"
      ]
    },
    {
      "cell_type": "markdown",
      "metadata": {
        "id": "LFxjp88036Rx"
      },
      "source": [
        "<font color='lightblue' size=6>***matplotlib***</font>"
      ]
    },
    {
      "cell_type": "markdown",
      "metadata": {
        "id": "AE2MvdCN4Awm"
      },
      "source": [
        "This module provides functions and other stuff to produce plots in python. It is very convenient to read and understand how numpy works by doing the tutorial on numpy in the [w3schools section of matplotlib](https://www.w3schools.com/python/matplotlib_intro.asp) site"
      ]
    },
    {
      "cell_type": "markdown",
      "metadata": {
        "id": "bYDDS8wj4nMk"
      },
      "source": [
        "Try the following code examples, and change some of their parameters to study what consequences are shown."
      ]
    },
    {
      "cell_type": "code",
      "execution_count": 195,
      "metadata": {
        "id": "BnAmBrA044Fe"
      },
      "outputs": [],
      "source": [
        "import matplotlib.pyplot as plt\n",
        "plt.rcParams['figure.figsize'] = [5, 3]"
      ]
    },
    {
      "cell_type": "code",
      "execution_count": 196,
      "metadata": {
        "id": "_AQ2QxnR5k5c"
      },
      "outputs": [
        {
          "name": "stdout",
          "output_type": "stream",
          "text": [
            "[-6.28318531 -6.02672876 -5.77027222 -5.51381568 -5.25735913 -5.00090259\n",
            " -4.74444605 -4.48798951 -4.23153296 -3.97507642 -3.71861988 -3.46216333\n",
            " -3.20570679 -2.94925025 -2.6927937  -2.43633716 -2.17988062 -1.92342407\n",
            " -1.66696753 -1.41051099 -1.15405444 -0.8975979  -0.64114136 -0.38468481\n",
            " -0.12822827  0.12822827  0.38468481  0.64114136  0.8975979   1.15405444\n",
            "  1.41051099  1.66696753  1.92342407  2.17988062  2.43633716  2.6927937\n",
            "  2.94925025  3.20570679  3.46216333  3.71861988  3.97507642  4.23153296\n",
            "  4.48798951  4.74444605  5.00090259  5.25735913  5.51381568  5.77027222\n",
            "  6.02672876  6.28318531]\n",
            "[-0.99999303 -0.99998835 -0.99998055 -0.99996751 -0.99994573 -0.99990937\n",
            " -0.99984864 -0.99974721 -0.99957784 -0.99929503 -0.99882288 -0.9980348\n",
            " -0.99671999 -0.9945279  -0.9908775  -0.9848105  -0.97475973 -0.95819851\n",
            " -0.93114962 -0.88760259 -0.81909278 -0.71512623 -0.56567619 -0.36676903\n",
            " -0.12753007  0.12753007  0.36676903  0.56567619  0.71512623  0.81909278\n",
            "  0.88760259  0.93114962  0.95819851  0.97475973  0.9848105   0.9908775\n",
            "  0.9945279   0.99671999  0.9980348   0.99882288  0.99929503  0.99957784\n",
            "  0.99974721  0.99984864  0.99990937  0.99994573  0.99996751  0.99998055\n",
            "  0.99998835  0.99999303]\n"
          ]
        },
        {
          "data": {
            "text/plain": [
              "[<matplotlib.lines.Line2D at 0x28820643110>]"
            ]
          },
          "execution_count": 196,
          "metadata": {},
          "output_type": "execute_result"
        },
        {
          "data": {
            "image/png": "[encoded data removed]",
            "text/plain": [
              "<Figure size 500x300 with 1 Axes>"
            ]
          },
          "metadata": {},
          "output_type": "display_data"
        }
      ],
      "source": [
        "x = np.linspace(-2*np.pi, 2*np.pi, 50)\n",
        "y = np.tanh(x)\n",
        "# showing values in table form (not very pretty)\n",
        "print(x)\n",
        "print(y)\n",
        "# using a beautiful plot\n",
        "fig, ax = plt.subplots()\n",
        "ax.plot(x,y)"
      ]
    },
    {
      "cell_type": "markdown",
      "metadata": {
        "id": "ZVF7G2HzPZ9R"
      },
      "source": [
        "You can put more than one function in a plot, and also can put more than one plot in a figure. Play with the bellow code examples to understand better how this can be programmed."
      ]
    },
    {
      "cell_type": "code",
      "execution_count": 197,
      "metadata": {
        "id": "KCojHHvbPw6Y"
      },
      "outputs": [
        {
          "data": {
            "text/plain": [
              "[<matplotlib.lines.Line2D at 0x2882273b980>]"
            ]
          },
          "execution_count": 197,
          "metadata": {},
          "output_type": "execute_result"
        },
        {
          "data": {
            "image/png": "[encoded data removed]",
            "text/plain": [
              "<Figure size 500x300 with 2 Axes>"
            ]
          },
          "metadata": {},
          "output_type": "display_data"
        }
      ],
      "source": [
        "x = np.linspace(0, 2*np.pi, 200)\n",
        "y1 = np.tanh(x)\n",
        "y2 = np.cos(x**2)\n",
        "# what are the meaning of parameters 1, 2, and sharey in the next instruction?\n",
        "fir, axes = plt.subplots(1, 2, sharey = True)\n",
        "axes[1].plot(x, y1)\n",
        "axes[1].plot(x, -y1)\n",
        "axes[0].plot(x, y2)"
      ]
    }
  ],
  "metadata": {
    "colab": {
      "provenance": []
    },
    "kernelspec": {
      "display_name": "Python 3",
      "name": "python3"
    },
    "language_info": {
      "codemirror_mode": {
        "name": "ipython",
        "version": 3
      },
      "file_extension": ".py",
      "mimetype": "text/x-python",
      "name": "python",
      "nbconvert_exporter": "python",
      "pygments_lexer": "ipython3",
      "version": "3.12.2"
    }
  },
  "nbformat": 4,
  "nbformat_minor": 0
}

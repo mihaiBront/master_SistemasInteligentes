{
  "cells": [
    {
      "cell_type": "markdown",
      "metadata": {
        "id": "FJ0vpmMEWBnZ"
      },
      "source": [
        "<font color='lightblue' size=6>Practice 1: Second part. Implementation and evaluation with value iteration rule</font>"
      ]
    },
    {
      "cell_type": "markdown",
      "metadata": {
        "id": "XkQ7_FyrKxNt"
      },
      "source": [
        "<font color='red'> Modify this text section and put your name in *bold*\n",
        "</font>\n",
        "---"
      ]
    },
    {
      "cell_type": "markdown",
      "metadata": {
        "id": "AZufR6b27rxE"
      },
      "source": [
        "Recall from theory slides the scenario with no determinism transitions."
      ]
    },
    {
      "cell_type": "code",
      "execution_count": 1,
      "metadata": {
        "id": "lNdccrpFB7WX"
      },
      "outputs": [],
      "source": [
        "import numpy as np\n",
        "state = [0,1,2,3,4]\n",
        "action = [0,1,2] # left, stay, right movements\n",
        "T = np.array([[[1/2,1/2,0,0,0],[1/2,1/2,0,0,0],[2/3,1/3,0,0,0]],\n",
        "              [[1/3,2/3,0,0,0],[1/4,1/2,1/4,0,0],[0,2/3,1/3,0,0]],\n",
        "              [[0,1/3,2/3,0,0],[0,1/4,1/2,1/4,0],[0,0,2/3,1/3,0]],\n",
        "              [[0,0,1/3,2/3,0],[0,0,1/4,1/2,1/4],[0,0,0,2/3,1/3]],\n",
        "              [[0,0,0,1/3,2/3],[0,0,0,1/2,1/2],[0,0,0,1/2,1/2]]])\n",
        "num_states = 5\n",
        "num_actions = 3\n",
        "gamma = 1/2\n",
        "R = np.zeros(5)\n",
        "R[4] = 1"
      ]
    },
    {
      "cell_type": "markdown",
      "metadata": {
        "id": "-RDfIN_r-993"
      },
      "source": [
        "<font color='brown' size=6> *Exercise* </font>\n",
        "\n",
        "Write a function implementing the value iteration algorithm. The function must return the V\\* array containing the optimal value for each state. With the above proposed values, the result should be:\n",
        "\n",
        "[0.00833333 0.025      0.1        0.4        1.6       ]"
      ]
    },
    {
      "cell_type": "markdown",
      "metadata": {},
      "source": [
        "**1.** A simple mock for the function:"
      ]
    },
    {
      "cell_type": "code",
      "execution_count": 2,
      "metadata": {},
      "outputs": [
        {
          "name": "stdout",
          "output_type": "stream",
          "text": [
            "[0.00833333 0.025      0.1        0.4        1.6       ]\n"
          ]
        }
      ],
      "source": [
        "def ValueIteration(T, num_states, num_actions, gamma, R):\n",
        "    vlast = np.zeros(num_states)\n",
        "    vcurr = np.zeros(num_states)\n",
        "\n",
        "    for i in range(200):\n",
        "        vlast = vcurr.copy()\n",
        "        for s in range(num_states):\n",
        "            maxA = []\n",
        "            for a in range(num_actions):\n",
        "                sumVect = []\n",
        "                for sa in range(num_states):\n",
        "                    sumVect.append(T[s][a][sa] * (R[s] + gamma * vlast[sa]))\n",
        "                sumVect = sum(sumVect)\n",
        "                maxA.append(sumVect)\n",
        "            vcurr[s] = max(maxA)\n",
        "\n",
        "    return vcurr\n",
        "\n",
        "print(ValueIteration(T, num_states, num_actions, gamma, R))\n",
        "               \n",
        "\n",
        "\n"
      ]
    },
    {
      "cell_type": "markdown",
      "metadata": {},
      "source": [
        "**2.** Make it converge when the max difference from Vcurr to Vlast is less that a threshold (`convergenceThres`); and add comments for clarity"
      ]
    },
    {
      "cell_type": "code",
      "execution_count": 14,
      "metadata": {},
      "outputs": [
        {
          "name": "stdout",
          "output_type": "stream",
          "text": [
            "V = [0.00833333 0.025      0.1        0.4        1.6       ] (obtained on iteration 37)\n"
          ]
        }
      ],
      "source": [
        "def ValueIteration(T, num_states, num_actions, gamma, R, convergenceThres: float = 1e-11):\n",
        "    vlast = np.zeros(num_states)\n",
        "    vcurr = np.zeros(num_states)\n",
        "\n",
        "    k = 1\n",
        "    while k > 0 :\n",
        "        # update v_prev\n",
        "        vlast = vcurr.copy()\n",
        "        # for each state in the v vector:\n",
        "        for s_current in range(num_states):\n",
        "            maxA = []\n",
        "            # for each action available to perform\n",
        "            for a_available in range(num_actions):\n",
        "                sumVect = []\n",
        "                # for each possible landing state\n",
        "                for s_landing in range(num_states):\n",
        "                    # \"perform summatory for each landing possible landing state coming from a current state performing a specific action\"\n",
        "                    sumVect.append(T[s_current][a_available][s_landing] * (R[s_current] + gamma * vlast[s_landing]))\n",
        "                #add this sumatory for this specific action to a list\n",
        "                sumVect = sum(sumVect)\n",
        "                maxA.append(sumVect)\n",
        "            # set state value for this iteration as the maximum action return\n",
        "            vcurr[s_current] = max(maxA)\n",
        "        \n",
        "        # calculate convergence\n",
        "        if max(abs(vlast - vcurr)) < convergenceThres: break\n",
        "        k += 1\n",
        "\n",
        "    return vcurr, k\n",
        "\n",
        "V, iterationSolving = ValueIteration(T, num_states, num_actions, gamma, R)\n",
        "\n",
        "print(f\"V = {V} (obtained on iteration {iterationSolving})\")\n"
      ]
    },
    {
      "cell_type": "markdown",
      "metadata": {
        "id": "MNoD52YbwBSM"
      },
      "source": [
        "<font color='brown' size=6> *Exercise* </font>\n",
        "\n",
        "Lets calculate now what is the optimum policy given this optimum values for the states.\n",
        "\n",
        "First, write a function to calculate Q\\*(s,a) from V\\* for all state s and all action a. This function must return a (num_state, num_action) bidimensional array.\n",
        "\n",
        "For this scenario. given V\\* calculated with gamma = 0.5 the result should be:\n",
        "\n",
        "[[0.00833333 0.00833333 0.00694444]\n",
        "\n",
        " [0.00972222 0.01979166 0.025     ]\n",
        "\n",
        " [0.0375     0.078125   0.1       ]\n",
        "\n",
        " [0.15       0.3125     0.4       ]\n",
        "\n",
        " [1.6        1.5        1.5       ]]\n"
      ]
    },
    {
      "cell_type": "code",
      "execution_count": 38,
      "metadata": {
        "id": "fGJT08MCwL29"
      },
      "outputs": [
        {
          "name": "stdout",
          "output_type": "stream",
          "text": [
            "[[0.00833333 0.00833333 0.00694444]\n",
            " [0.00972222 0.01979167 0.025     ]\n",
            " [0.0375     0.078125   0.1       ]\n",
            " [0.15       0.3125     0.4       ]\n",
            " [1.6        1.5        1.5       ]]\n"
          ]
        }
      ],
      "source": [
        "def QValueFromV(T, num_states, num_actions, gamma, R, V, convergenceThres: float = 1e-11):\n",
        "    qcurr = np.zeros((num_states, num_actions))\n",
        "    \n",
        "    # update v_prev\n",
        "    # for each state in the q vector:\n",
        "    for s_current in range(num_states):\n",
        "        # for each available action\n",
        "        for a_available in range(num_actions):\n",
        "            s_landing_vect = []\n",
        "            # prform the calculation for each landing state\n",
        "            for s_landing in range(num_states):\n",
        "                s_landing_vect.append(T[s_current][a_available][s_landing] * (R[s_current] + gamma * V[s_landing]))\n",
        "            qcurr[s_current, a_available] = sum(s_landing_vect)\n",
        "    \n",
        "    # calculate convergence\n",
        "\n",
        "    return qcurr\n",
        "\n",
        "Q = QValueFromV(T, num_states, num_actions, gamma, R, V)\n",
        "print(Q)\n",
        "\n"
      ]
    },
    {
      "cell_type": "markdown",
      "metadata": {
        "id": "S5YELFDQ76ox"
      },
      "source": [
        "<font color='brown' size=6> *Exercise* </font>\n",
        "\n",
        "Now, calculate the optimum policy from Q*(s,a). Write a function for doing that. For the already proposed values the result should be:\n",
        "\n",
        "[0. 2. 2. 2. 0.]"
      ]
    },
    {
      "cell_type": "code",
      "execution_count": 44,
      "metadata": {
        "id": "rSX0jHpG8AHW"
      },
      "outputs": [
        {
          "name": "stdout",
          "output_type": "stream",
          "text": [
            "Q = [[0.00833333 0.00833333 0.00694444]\n",
            " [0.00972222 0.01979167 0.025     ]\n",
            " [0.0375     0.078125   0.1       ]\n",
            " [0.15       0.3125     0.4       ]\n",
            " [1.6        1.5        1.5       ]] \n",
            "(Achieved in 37 iterations)\n"
          ]
        }
      ],
      "source": [
        "def QValueFromV(T, num_states, num_actions, gamma, R, convergenceThres: float = 1e-11):\n",
        "    qlast = np.zeros((num_states, num_actions))\n",
        "    qcurr = np.zeros((num_states, num_actions))\n",
        "    \n",
        "    # update v_prev\n",
        "    # for each state in the q vector:\n",
        "    k = 1\n",
        "    while k > 0 :\n",
        "        # overwrite qlast with the qcurr from the last iteration\n",
        "        qlast = qcurr.copy()\n",
        "        for s_current in range(num_states):\n",
        "            for a_available in range(num_actions):\n",
        "                s_landing_vect = []\n",
        "                for s_landing in range(num_states):\n",
        "                    q_max_for_action = max(qlast[s_landing])\n",
        "                    s_landing_vect.append(T[s_current][a_available][s_landing] * (R[s_current] + gamma * q_max_for_action))\n",
        "                qcurr[s_current, a_available] = sum(s_landing_vect)\n",
        "    \n",
        "        # calculate convergence\n",
        "        if np.max(abs(qlast-qcurr)) < convergenceThres: break\n",
        "        k += 1\n",
        "\n",
        "    return qcurr, k\n",
        "\n",
        "Q_recursive, k = QValueFromV(T, num_states, num_actions, gamma, R)\n",
        "print(f\"Q = {Q_recursive} \\n(Achieved in {k} iterations)\")"
      ]
    },
    {
      "cell_type": "markdown",
      "metadata": {
        "id": "VJjI3enYBZH8"
      },
      "source": [
        "<font color='brown' size=6> *Exercise* </font>\n",
        "\n",
        "Let's do a graphical study about how the value of V\\* changes as gamma changes too. First, import mapplotlib as you already did in the first part of this practice.\n",
        "Remember to import matplotlib and put the size of the image as 7,4."
      ]
    },
    {
      "cell_type": "code",
      "execution_count": 53,
      "metadata": {
        "id": "8vqqIkwDBv9O"
      },
      "outputs": [],
      "source": [
        "gamma_list = np.linspace(0, 0.999, 1000)\n",
        "\n",
        "v_mat = np.zeros((gamma_list.shape[0], num_states))\n",
        "for i in range(len(gamma_list)):\n",
        "    V, _ = ValueIteration(T, num_states, num_actions, gamma_list[i], R)\n",
        "    v_mat[i] = V\n",
        "\n",
        "\n"
      ]
    },
    {
      "cell_type": "code",
      "execution_count": 55,
      "metadata": {},
      "outputs": [
        {
          "ename": "TypeError",
          "evalue": "title() missing 1 required positional argument: 'label'",
          "output_type": "error",
          "traceback": [
            "\u001b[0;31m---------------------------------------------------------------------------\u001b[0m",
            "\u001b[0;31mTypeError\u001b[0m                                 Traceback (most recent call last)",
            "Cell \u001b[0;32mIn[55], line 6\u001b[0m\n\u001b[1;32m      4\u001b[0m plt\u001b[38;5;241m.\u001b[39mfigure(figsize\u001b[38;5;241m=\u001b[39m(\u001b[38;5;241m15\u001b[39m,\u001b[38;5;241m6\u001b[39m))\n\u001b[1;32m      5\u001b[0m plt\u001b[38;5;241m.\u001b[39mplot(v_mat)\n\u001b[0;32m----> 6\u001b[0m \u001b[43mplt\u001b[49m\u001b[38;5;241;43m.\u001b[39;49m\u001b[43mtitle\u001b[49m\u001b[43m(\u001b[49m\u001b[43m)\u001b[49m\n\u001b[1;32m      7\u001b[0m plt\u001b[38;5;241m.\u001b[39mshow()\n",
            "\u001b[0;31mTypeError\u001b[0m: title() missing 1 required positional argument: 'label'"
          ]
        },
        {
          "data": {
            "image/png": "[encoded data removed]",
            "text/plain": [
              "<Figure size 1500x600 with 1 Axes>"
            ]
          },
          "metadata": {},
          "output_type": "display_data"
        }
      ],
      "source": [
        "## RUN TO PLOT RESULTS ##\n",
        "import matplotlib.pyplot as plt\n",
        "\n",
        "plt.figure(figsize=(15,6))\n",
        "plt.plot(v_mat)\n",
        "plt.title(\"Values in V in function of Gamma\")\n",
        "plt.show()"
      ]
    },
    {
      "cell_type": "markdown",
      "metadata": {
        "id": "oq9MAMXdB9mQ"
      },
      "source": [
        "Then, calculate and store V\\* for the gamma values:\n",
        "\n",
        "gamma = (0.1, 0.25, 0.5, 0,75, 0.9, 1)\n",
        "\n",
        "Next, write matplotlib python code to show **this** plot (each line corresponds with the values of each state, from state 0 to state 4, in each of the gamma values proposed):\n",
        "\n",
        "![image.png](data:image/png;base64,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)"
      ]
    },
    {
      "cell_type": "code",
      "execution_count": null,
      "metadata": {
        "id": "eM7cQBcpEM2R"
      },
      "outputs": [],
      "source": [
        "\n",
        "\n",
        "\n",
        "\n",
        "\n",
        "\n",
        "\n",
        "\n",
        "\n"
      ]
    },
    {
      "cell_type": "markdown",
      "metadata": {
        "id": "Dd5pje-ZLRDR"
      },
      "source": [
        "Explain in the next text cell what do you observe from this plot for this scenario"
      ]
    },
    {
      "cell_type": "markdown",
      "metadata": {
        "id": "dbcpEKNhLU-U"
      },
      "source": [
        "Write here your thoughts"
      ]
    }
  ],
  "metadata": {
    "colab": {
      "provenance": []
    },
    "kernelspec": {
      "display_name": "Python 3",
      "name": "python3"
    },
    "language_info": {
      "codemirror_mode": {
        "name": "ipython",
        "version": 3
      },
      "file_extension": ".py",
      "mimetype": "text/x-python",
      "name": "python",
      "nbconvert_exporter": "python",
      "pygments_lexer": "ipython3",
      "version": "3.11.10"
    }
  },
  "nbformat": 4,
  "nbformat_minor": 0
}

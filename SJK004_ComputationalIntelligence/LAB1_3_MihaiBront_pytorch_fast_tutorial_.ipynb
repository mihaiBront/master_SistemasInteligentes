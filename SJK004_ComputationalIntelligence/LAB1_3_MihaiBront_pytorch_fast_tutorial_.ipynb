{
  "cells": [
    {
      "cell_type": "markdown",
      "metadata": {
        "id": "1oNVU7hXHvbk"
      },
      "source": [
        "<font color=\"red\" size=\"10\">pytorch (very) fast tutorial </font>"
      ]
    },
    {
      "cell_type": "markdown",
      "metadata": {
        "id": "awtPKJvoH1HO"
      },
      "source": [
        "***pytorch*** is a package designed to provide tools for fast development of Gradient-based deep learning (GBDL)\n",
        "\n",
        "The key data structure in pytorch is the multidimensional array, that is called a <font color=\"green\" size=\"6\">***tensor***</font>\n",
        "\n",
        "Lets play a little with tensors and their more frequent operations."
      ]
    },
    {
      "cell_type": "code",
      "execution_count": 50,
      "metadata": {
        "id": "9smGVAhlHLQf"
      },
      "outputs": [],
      "source": [
        "import torch"
      ]
    },
    {
      "cell_type": "code",
      "execution_count": 51,
      "metadata": {
        "id": "LgfnwEveH8d8"
      },
      "outputs": [
        {
          "name": "stdout",
          "output_type": "stream",
          "text": [
            "tensor([[ 0.8241, -1.3152,  0.3866, -0.6902],\n",
            "        [-0.7364,  1.2262,  2.2513, -1.3385],\n",
            "        [-0.7840,  0.4838, -0.6880, -1.9676]])\n"
          ]
        }
      ],
      "source": [
        "a = torch.randn(3,4)\n",
        "print(a)"
      ]
    },
    {
      "cell_type": "markdown",
      "metadata": {
        "id": "LzL16cG_IEPu"
      },
      "source": [
        "Tensors use 0 based indexes. Every element in a tensor is a tensor:"
      ]
    },
    {
      "cell_type": "code",
      "execution_count": 52,
      "metadata": {
        "id": "OLvf3uqkIFS5"
      },
      "outputs": [
        {
          "data": {
            "text/plain": [
              "tensor(1.2262)"
            ]
          },
          "execution_count": 52,
          "metadata": {},
          "output_type": "execute_result"
        }
      ],
      "source": [
        "a[1,1]"
      ]
    },
    {
      "cell_type": "markdown",
      "metadata": {
        "id": "YGeLOBmZIOGq"
      },
      "source": [
        "Write the way to obtain the inner value of the element at position 1,1"
      ]
    },
    {
      "cell_type": "code",
      "execution_count": 53,
      "metadata": {
        "id": "eKABbAR4IaWo"
      },
      "outputs": [
        {
          "data": {
            "text/plain": [
              "1.226157784461975"
            ]
          },
          "execution_count": 53,
          "metadata": {},
          "output_type": "execute_result"
        }
      ],
      "source": [
        "a[1,1].item()"
      ]
    },
    {
      "cell_type": "markdown",
      "metadata": {
        "id": "us4ayF3TIkT7"
      },
      "source": [
        "Tensors can be accessed with slices"
      ]
    },
    {
      "cell_type": "code",
      "execution_count": 54,
      "metadata": {
        "id": "HRyRf9AxIoWr"
      },
      "outputs": [
        {
          "name": "stdout",
          "output_type": "stream",
          "text": [
            "tensor([ 0.8241, -1.3152,  0.3866, -0.6902])\n",
            "tensor([ 0.8241, -0.7364, -0.7840])\n"
          ]
        }
      ],
      "source": [
        "print(a[0,:])\n",
        "print(a[:,0])"
      ]
    },
    {
      "cell_type": "markdown",
      "metadata": {
        "id": "uxOf3xaQIx6J"
      },
      "source": [
        "Vectoriced operations can be run with tensors"
      ]
    },
    {
      "cell_type": "code",
      "execution_count": 55,
      "metadata": {
        "id": "ZEL_aLLPJBgw"
      },
      "outputs": [
        {
          "name": "stdout",
          "output_type": "stream",
          "text": [
            "a tensor([[ 0.2717, -0.3133],\n",
            "        [ 0.0792,  1.7926]])\n",
            "b tensor([[-0.3481, -0.2770],\n",
            "        [-1.7911,  0.7874]])\n"
          ]
        }
      ],
      "source": [
        "a = torch.randn(2,2)\n",
        "print('a', a)\n",
        "b = torch.randn(2,2)\n",
        "print('b', b)"
      ]
    },
    {
      "cell_type": "code",
      "execution_count": 56,
      "metadata": {},
      "outputs": [
        {
          "name": "stdout",
          "output_type": "stream",
          "text": [
            "a + b tensor([[-0.0764, -0.5904],\n",
            "        [-1.7119,  2.5800]])\n",
            "a * b tensor([[-0.0946,  0.0868],\n",
            "        [-0.1418,  1.4115]])\n",
            "A * B tensor([[ 0.4666, -0.3220],\n",
            "        [-3.2382,  1.3896]])\n",
            "A - b[:0] =  tensor([[0.6199, 1.4778],\n",
            "        [0.4273, 3.5837]])\n"
          ]
        }
      ],
      "source": [
        "\n",
        "c = a + b # elementwise sum operation\n",
        "print('a + b',c)\n",
        "d = a * b # elementwise product operation\n",
        "print('a * b',d)\n",
        "# Compute e that is the matrix multiplication operation of a and b\n",
        "e = torch.matmul(a, b)\n",
        "print('A * B',e)\n",
        "# Compute f that is the matrix (a)-vector(first column of matrix b) multiplication\n",
        "f = a - b[:, 0]\n",
        "print('A - b[:0] = ',f)"
      ]
    },
    {
      "cell_type": "markdown",
      "metadata": {
        "id": "D3Y8HYSZKMNc"
      },
      "source": [
        "A given tensor can be transformed to another tensor with different dimensions (we can arrange its elements in other dimensions, e.g from 1 dimension to 2 or even more dimensions)\n",
        "Several examples are given bellow. Don't run executing them, try first to figure out what will be the result and then understand the output."
      ]
    },
    {
      "cell_type": "code",
      "execution_count": 57,
      "metadata": {
        "id": "861Qggi9KNdv"
      },
      "outputs": [
        {
          "name": "stdout",
          "output_type": "stream",
          "text": [
            "a tensor([[-0.8182, -0.8174],\n",
            "        [-0.9671,  0.9302]])\n",
            "a.unsqueeze(-1) = tensor([[[-0.8182],\n",
            "         [-0.8174]],\n",
            "\n",
            "        [[-0.9671],\n",
            "         [ 0.9302]]])\n"
          ]
        }
      ],
      "source": [
        "a = torch.randn(2,2) # 2 x 2 dimensions\n",
        "print('a',a)\n",
        "b = a.unsqueeze(-1) # 2 x 2 x 1 dimensions\n",
        "print('a.unsqueeze(-1) =',b)"
      ]
    },
    {
      "cell_type": "code",
      "execution_count": 58,
      "metadata": {
        "id": "4lmOa1fBKoKW"
      },
      "outputs": [
        {
          "name": "stdout",
          "output_type": "stream",
          "text": [
            "a.unsqueeze(0) tensor([[[-0.8182, -0.8174],\n",
            "         [-0.9671,  0.9302]]])\n"
          ]
        }
      ],
      "source": [
        "b = a.unsqueeze(0) # 1 x 2 x 2 dimensions\n",
        "print('a.unsqueeze(0)',b)"
      ]
    },
    {
      "cell_type": "code",
      "execution_count": 59,
      "metadata": {
        "id": "A2rLpCxPKrKj"
      },
      "outputs": [
        {
          "name": "stdout",
          "output_type": "stream",
          "text": [
            "a.view(4,1) tensor([[-0.8182],\n",
            "        [-0.8174],\n",
            "        [-0.9671],\n",
            "        [ 0.9302]])\n"
          ]
        }
      ],
      "source": [
        "c = a.view(4,1) # rearrange data as 4 x 1\n",
        "print('a.view(4,1)',c)"
      ]
    },
    {
      "cell_type": "code",
      "execution_count": 60,
      "metadata": {
        "id": "if8T9uWqKzFF"
      },
      "outputs": [
        {
          "name": "stdout",
          "output_type": "stream",
          "text": [
            "a\n",
            " tensor([ 1.7559, -0.4647])\n",
            "a.unsqueeze(-1)\n",
            " tensor([[ 1.7559],\n",
            "        [-0.4647]])\n",
            "a.expand(3,2)\n",
            " tensor([[ 1.7559, -0.4647],\n",
            "        [ 1.7559, -0.4647],\n",
            "        [ 1.7559, -0.4647]])\n"
          ]
        }
      ],
      "source": [
        "a = torch.randn(2) # 1 x 2 dimensions\n",
        "print('a\\n',a)\n",
        "b = a.unsqueeze(-1) # 1 x 1 x 1 dimensions\n",
        "print('a.unsqueeze(-1)\\n',b)\n",
        "c = a.expand(3,2) #out dimensions have to be multiple of in dimensions\n",
        "print('a.expand(3,2)\\n',c)"
      ]
    },
    {
      "cell_type": "markdown",
      "metadata": {
        "id": "XK6N_5-FMOCI"
      },
      "source": [
        "How can we detect if ***CUDA*** is available in pytorch?"
      ]
    },
    {
      "cell_type": "code",
      "execution_count": 61,
      "metadata": {
        "id": "MkjSGOGyMXz8"
      },
      "outputs": [
        {
          "name": "stdout",
          "output_type": "stream",
          "text": [
            "You have CUDA, turning GPU on\n"
          ]
        }
      ],
      "source": [
        "do_I_have_cuda = torch.cuda.is_available()\n",
        "if do_I_have_cuda:\n",
        "  print(\"You have CUDA, turning GPU on\")\n",
        "  device = torch.device('cuda')\n",
        "  a = a.to(device)\n",
        "else:\n",
        "  print(\"You don't have CUDA, :( why?\")\n",
        "  device = torch.device('cpu')\n",
        "  a = a.to(device)"
      ]
    },
    {
      "cell_type": "markdown",
      "metadata": {
        "id": "WXs2J-FUMcAF"
      },
      "source": [
        "In ANN (Artificial Neural Networks) there is three basic ways to do backpropagation given there are n examples for training it:\n",
        "\n",
        "*   ***Full Gradient Descent***: one step for all the n examples\n",
        "*   ***Stochastic Gradient Descent***: one step for each example\n",
        "*   ***Mini-batch Stochastic Gradient Descent***: n/m steps for all the n examples, m is the size of the mini-batch\n",
        "\n",
        "Why mini-batch is so commonly used? Because it provides a more stable gradient estimate and because of computational efficency."
      ]
    },
    {
      "cell_type": "markdown",
      "metadata": {
        "id": "0xIts-jGMi54"
      },
      "source": [
        "***Autograd***: Automatic differentiation\n",
        "\n",
        "pytorch contains methods for automatically compute gradients (frequently used in the backpropagation phase during training)"
      ]
    },
    {
      "cell_type": "code",
      "execution_count": 62,
      "metadata": {
        "id": "aErOPE5NMnL1"
      },
      "outputs": [
        {
          "name": "stdout",
          "output_type": "stream",
          "text": [
            "tensor([0.5945], requires_grad=True)\n",
            "tensor([1.8121], grad_fn=<ExpBackward0>)\n",
            "tensor([1.8121]) tensor([1.8121], grad_fn=<ExpBackward0>)\n"
          ]
        }
      ],
      "source": [
        "x = torch.randn(1, requires_grad=True)\n",
        "# x is a tensor that will record gradients\n",
        "print(x)\n",
        "y = x.exp() # e^x\n",
        "print(y)\n",
        "y.backward() # For every [x1, ..., xk] values used to compute y\n",
        "             #   dy/dx is computed and stored in x_i.grad\n",
        "             # Here, dy/dx = e^x = y\n",
        "print(x.grad, y)"
      ]
    },
    {
      "cell_type": "markdown",
      "metadata": {
        "id": "9WrdB8fMMrs2"
      },
      "source": [
        "The calls of backward accumulate, so if we do not want this, we can de-activated computing grads:"
      ]
    },
    {
      "cell_type": "code",
      "execution_count": 63,
      "metadata": {
        "id": "EQo8lse7Mv4e"
      },
      "outputs": [],
      "source": [
        "with torch.no_grad():\n",
        "  # do_all_my_things_here_without_accumulate_gradients\n",
        "  #\n",
        "  pass ## just for not to see an error message from python here!"
      ]
    },
    {
      "cell_type": "markdown",
      "metadata": {
        "id": "eOOkS2VoM6b4"
      },
      "source": [
        "###Lets see an example of how to programming an ANN using pytorch.###\n",
        "\n",
        "We are going to use the example of the MNIST database, which are examples of hand-written digits. The goal of the ANN will be to recognize handwritten digits."
      ]
    },
    {
      "cell_type": "code",
      "execution_count": 64,
      "metadata": {
        "id": "BD8r30u8VgSF"
      },
      "outputs": [],
      "source": [
        "import torch\n",
        "import torch.nn as nn\n",
        "import torch.optim as optim\n",
        "import torchvision\n",
        "import torchvision.transforms as transforms\n",
        "\n",
        "# Hyperparameters\n",
        "input_size = 28 * 28  # Image size (28x28 pixels)\n",
        "hidden_size = 128     # Number of neurons of the hidden layer\n",
        "num_classes = 10      # Number of classes (digits 0-9)\n",
        "num_epochs = 5        # Number of epoch for training\n",
        "batch_size = 64\n",
        "learning_rate = 0.001 # Learning pace\n",
        "\n",
        "# Normalize images\n",
        "transform = transforms.Compose([transforms.ToTensor(), transforms.Normalize((0.5,), (0.5,))])\n",
        "\n",
        "# Load MNIST dataset\n",
        "train_dataset = torchvision.datasets.MNIST(root='./data', train=True, transform=transform, download=True)\n",
        "train_loader = torch.utils.data.DataLoader(dataset=train_dataset, batch_size=batch_size, shuffle=True)\n",
        "\n",
        "test_dataset = torchvision.datasets.MNIST(root='./data', train=False, transform=transform, download=True)\n",
        "test_loader = torch.utils.data.DataLoader(dataset=test_dataset, batch_size=batch_size, shuffle=False)"
      ]
    },
    {
      "cell_type": "markdown",
      "metadata": {
        "id": "8mqYLoJcVp2z"
      },
      "source": [
        "An ANN can be programed as a new class that extends from the nn.Module provided by torch."
      ]
    },
    {
      "cell_type": "code",
      "execution_count": 65,
      "metadata": {
        "id": "C_Pi_8T1Vu6P"
      },
      "outputs": [],
      "source": [
        "class SimpleNN(nn.Module):\n",
        "    def __init__(self, input_size, hidden_size, num_classes):\n",
        "        super(SimpleNN, self).__init__()\n",
        "        self.fc1 = nn.Linear(input_size, hidden_size)\n",
        "        self.relu = nn.ReLU()\n",
        "        self.fc2 = nn.Linear(hidden_size, num_classes)\n",
        "\n",
        "    def forward(self, x):\n",
        "        x = x.view(-1, input_size)  # Put an image as a vector\n",
        "        x = self.fc1(x)\n",
        "        x = self.relu(x)\n",
        "        x = self.fc2(x)\n",
        "        return x"
      ]
    },
    {
      "cell_type": "markdown",
      "metadata": {
        "id": "Ht7MVELLV0c-"
      },
      "source": [
        "Get an object from this class, define the loss function and which optimizator will be applied."
      ]
    },
    {
      "cell_type": "code",
      "execution_count": 66,
      "metadata": {
        "id": "q0cwLzFYV4ii"
      },
      "outputs": [],
      "source": [
        "model = SimpleNN(input_size, hidden_size, num_classes)\n",
        "criterion = nn.CrossEntropyLoss()\n",
        "optimizer = optim.Adam(model.parameters(), lr=learning_rate)"
      ]
    },
    {
      "cell_type": "markdown",
      "metadata": {
        "id": "3oyd-gQkV9Hj"
      },
      "source": [
        "Lets train the ANN!!!"
      ]
    },
    {
      "cell_type": "code",
      "execution_count": 67,
      "metadata": {
        "id": "URNCS89AWAWR"
      },
      "outputs": [
        {
          "name": "stdout",
          "output_type": "stream",
          "text": [
            "Epoch [1/5], Step [100/938], Loss: 0.4862\n",
            "Epoch [1/5], Step [200/938], Loss: 0.4553\n",
            "Epoch [1/5], Step [300/938], Loss: 0.2051\n",
            "Epoch [1/5], Step [400/938], Loss: 0.3954\n",
            "Epoch [1/5], Step [500/938], Loss: 0.1284\n",
            "Epoch [1/5], Step [600/938], Loss: 0.2482\n",
            "Epoch [1/5], Step [700/938], Loss: 0.2438\n",
            "Epoch [1/5], Step [800/938], Loss: 0.2427\n",
            "Epoch [1/5], Step [900/938], Loss: 0.4540\n",
            "Epoch [2/5], Step [100/938], Loss: 0.1868\n",
            "Epoch [2/5], Step [200/938], Loss: 0.2323\n",
            "Epoch [2/5], Step [300/938], Loss: 0.1308\n",
            "Epoch [2/5], Step [400/938], Loss: 0.3629\n",
            "Epoch [2/5], Step [500/938], Loss: 0.1971\n",
            "Epoch [2/5], Step [600/938], Loss: 0.1804\n",
            "Epoch [2/5], Step [700/938], Loss: 0.1233\n",
            "Epoch [2/5], Step [800/938], Loss: 0.2368\n",
            "Epoch [2/5], Step [900/938], Loss: 0.2749\n",
            "Epoch [3/5], Step [100/938], Loss: 0.2148\n",
            "Epoch [3/5], Step [200/938], Loss: 0.1055\n",
            "Epoch [3/5], Step [300/938], Loss: 0.0640\n",
            "Epoch [3/5], Step [400/938], Loss: 0.0650\n",
            "Epoch [3/5], Step [500/938], Loss: 0.1687\n",
            "Epoch [3/5], Step [600/938], Loss: 0.1588\n",
            "Epoch [3/5], Step [700/938], Loss: 0.0502\n",
            "Epoch [3/5], Step [800/938], Loss: 0.1421\n",
            "Epoch [3/5], Step [900/938], Loss: 0.1415\n",
            "Epoch [4/5], Step [100/938], Loss: 0.1534\n",
            "Epoch [4/5], Step [200/938], Loss: 0.0541\n",
            "Epoch [4/5], Step [300/938], Loss: 0.0960\n",
            "Epoch [4/5], Step [400/938], Loss: 0.0748\n",
            "Epoch [4/5], Step [500/938], Loss: 0.0826\n",
            "Epoch [4/5], Step [600/938], Loss: 0.0735\n",
            "Epoch [4/5], Step [700/938], Loss: 0.1342\n",
            "Epoch [4/5], Step [800/938], Loss: 0.0860\n",
            "Epoch [4/5], Step [900/938], Loss: 0.0967\n",
            "Epoch [5/5], Step [100/938], Loss: 0.1339\n",
            "Epoch [5/5], Step [200/938], Loss: 0.1122\n",
            "Epoch [5/5], Step [300/938], Loss: 0.2795\n",
            "Epoch [5/5], Step [400/938], Loss: 0.0742\n",
            "Epoch [5/5], Step [500/938], Loss: 0.1064\n",
            "Epoch [5/5], Step [600/938], Loss: 0.1597\n",
            "Epoch [5/5], Step [700/938], Loss: 0.0518\n",
            "Epoch [5/5], Step [800/938], Loss: 0.0264\n",
            "Epoch [5/5], Step [900/938], Loss: 0.0641\n"
          ]
        }
      ],
      "source": [
        "for epoch in range(num_epochs):\n",
        "    for i, (images, labels) in enumerate(train_loader):\n",
        "        # Pasar las imágenes a la red\n",
        "        outputs = model(images)\n",
        "        loss = criterion(outputs, labels)\n",
        "\n",
        "        # Backpropagation y optimización\n",
        "        optimizer.zero_grad()\n",
        "        loss.backward()\n",
        "        optimizer.step()\n",
        "\n",
        "        if (i + 1) % 100 == 0:\n",
        "            print(f'Epoch [{epoch + 1}/{num_epochs}], Step [{i + 1}/{len(train_loader)}], Loss: {loss.item():.4f}')"
      ]
    },
    {
      "cell_type": "markdown",
      "metadata": {
        "id": "_H9O4XN5WG5Y"
      },
      "source": [
        "Lets eval the ANN!!!"
      ]
    },
    {
      "cell_type": "code",
      "execution_count": 68,
      "metadata": {
        "id": "HhQK6sc-WK7d"
      },
      "outputs": [
        {
          "name": "stdout",
          "output_type": "stream",
          "text": [
            "Precision on test-set: 96.90%\n"
          ]
        }
      ],
      "source": [
        "model.eval()\n",
        "with torch.no_grad():\n",
        "    correct = 0\n",
        "    total = 0\n",
        "    for images, labels in test_loader:\n",
        "        outputs = model(images)\n",
        "        _, predicted = torch.max(outputs.data, 1)\n",
        "        total += labels.size(0)\n",
        "        correct += (predicted == labels).sum().item()\n",
        "\n",
        "    print(f'Precision on test-set: {100 * correct / total:.2f}%')"
      ]
    },
    {
      "cell_type": "markdown",
      "metadata": {
        "id": "HeL6Rf6NXwur"
      },
      "source": [
        "<font color=\"red\" size=\"6\">Try to change the optimizer to use a Stochastic Gradient Descent one. </font>\n",
        "\n",
        "Run the code again and observe if there are any changes in the results provided."
      ]
    },
    {
      "cell_type": "code",
      "execution_count": 69,
      "metadata": {},
      "outputs": [],
      "source": [
        "model = SimpleNN(input_size, hidden_size, num_classes)\n",
        "criterion = nn.CrossEntropyLoss()\n",
        "optimizer = optim.SGD(model.parameters(), lr=learning_rate)"
      ]
    },
    {
      "cell_type": "markdown",
      "metadata": {},
      "source": [
        "Lets train the ANN!!!"
      ]
    },
    {
      "cell_type": "code",
      "execution_count": 70,
      "metadata": {},
      "outputs": [
        {
          "name": "stdout",
          "output_type": "stream",
          "text": [
            "Epoch [1/5], Step [100/938], Loss: 2.2304\n",
            "Epoch [1/5], Step [200/938], Loss: 2.1448\n",
            "Epoch [1/5], Step [300/938], Loss: 2.0534\n",
            "Epoch [1/5], Step [400/938], Loss: 2.0201\n",
            "Epoch [1/5], Step [500/938], Loss: 1.9247\n",
            "Epoch [1/5], Step [600/938], Loss: 1.8383\n",
            "Epoch [1/5], Step [700/938], Loss: 1.6791\n",
            "Epoch [1/5], Step [800/938], Loss: 1.7120\n",
            "Epoch [1/5], Step [900/938], Loss: 1.6006\n",
            "Epoch [2/5], Step [100/938], Loss: 1.4811\n",
            "Epoch [2/5], Step [200/938], Loss: 1.4385\n",
            "Epoch [2/5], Step [300/938], Loss: 1.2962\n",
            "Epoch [2/5], Step [400/938], Loss: 1.2296\n",
            "Epoch [2/5], Step [500/938], Loss: 1.1723\n",
            "Epoch [2/5], Step [600/938], Loss: 1.2354\n",
            "Epoch [2/5], Step [700/938], Loss: 1.0945\n",
            "Epoch [2/5], Step [800/938], Loss: 0.9625\n",
            "Epoch [2/5], Step [900/938], Loss: 1.0768\n",
            "Epoch [3/5], Step [100/938], Loss: 0.8796\n",
            "Epoch [3/5], Step [200/938], Loss: 0.8670\n",
            "Epoch [3/5], Step [300/938], Loss: 0.7339\n",
            "Epoch [3/5], Step [400/938], Loss: 0.8033\n",
            "Epoch [3/5], Step [500/938], Loss: 0.8821\n",
            "Epoch [3/5], Step [600/938], Loss: 0.7256\n",
            "Epoch [3/5], Step [700/938], Loss: 0.6416\n",
            "Epoch [3/5], Step [800/938], Loss: 0.7031\n",
            "Epoch [3/5], Step [900/938], Loss: 0.9540\n",
            "Epoch [4/5], Step [100/938], Loss: 0.6344\n",
            "Epoch [4/5], Step [200/938], Loss: 0.6576\n",
            "Epoch [4/5], Step [300/938], Loss: 0.7361\n",
            "Epoch [4/5], Step [400/938], Loss: 0.7847\n",
            "Epoch [4/5], Step [500/938], Loss: 0.5634\n",
            "Epoch [4/5], Step [600/938], Loss: 0.7490\n",
            "Epoch [4/5], Step [700/938], Loss: 0.7282\n",
            "Epoch [4/5], Step [800/938], Loss: 0.5839\n",
            "Epoch [4/5], Step [900/938], Loss: 0.5887\n",
            "Epoch [5/5], Step [100/938], Loss: 0.6494\n",
            "Epoch [5/5], Step [200/938], Loss: 0.6654\n",
            "Epoch [5/5], Step [300/938], Loss: 0.6906\n",
            "Epoch [5/5], Step [400/938], Loss: 0.4464\n",
            "Epoch [5/5], Step [500/938], Loss: 0.5578\n",
            "Epoch [5/5], Step [600/938], Loss: 0.5275\n",
            "Epoch [5/5], Step [700/938], Loss: 0.6567\n",
            "Epoch [5/5], Step [800/938], Loss: 0.5105\n",
            "Epoch [5/5], Step [900/938], Loss: 0.4422\n"
          ]
        }
      ],
      "source": [
        "for epoch in range(num_epochs):\n",
        "    for i, (images, labels) in enumerate(train_loader):\n",
        "        # Pasar las imágenes a la red\n",
        "        outputs = model(images)\n",
        "        loss = criterion(outputs, labels)\n",
        "\n",
        "        # Backpropagation y optimización\n",
        "        optimizer.zero_grad()\n",
        "        loss.backward()\n",
        "        optimizer.step()\n",
        "\n",
        "        if (i + 1) % 100 == 0:\n",
        "            print(f'Epoch [{epoch + 1}/{num_epochs}], Step [{i + 1}/{len(train_loader)}], Loss: {loss.item():.4f}')"
      ]
    },
    {
      "cell_type": "markdown",
      "metadata": {},
      "source": [
        "Lets eval the ANN!!!"
      ]
    },
    {
      "cell_type": "code",
      "execution_count": 71,
      "metadata": {},
      "outputs": [
        {
          "name": "stdout",
          "output_type": "stream",
          "text": [
            "Precision on test-set: 87.46%\n"
          ]
        }
      ],
      "source": [
        "model.eval()\n",
        "with torch.no_grad():\n",
        "    correct = 0\n",
        "    total = 0\n",
        "    for images, labels in test_loader:\n",
        "        outputs = model(images)\n",
        "        _, predicted = torch.max(outputs.data, 1)\n",
        "        total += labels.size(0)\n",
        "        correct += (predicted == labels).sum().item()\n",
        "\n",
        "    print(f'Precision on test-set: {100 * correct / total:.2f}%')"
      ]
    }
  ],
  "metadata": {
    "colab": {
      "provenance": []
    },
    "kernelspec": {
      "display_name": "Python 3",
      "name": "python3"
    },
    "language_info": {
      "codemirror_mode": {
        "name": "ipython",
        "version": 3
      },
      "file_extension": ".py",
      "mimetype": "text/x-python",
      "name": "python",
      "nbconvert_exporter": "python",
      "pygments_lexer": "ipython3",
      "version": "3.11.10"
    }
  },
  "nbformat": 4,
  "nbformat_minor": 0
}
